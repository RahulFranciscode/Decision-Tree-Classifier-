{
 "cells": [
  {
   "cell_type": "code",
   "execution_count": 46,
   "id": "df5ca872",
   "metadata": {},
   "outputs": [],
   "source": [
    "import numpy as np\n",
    "import pandas as pd\n",
    "import matplotlib.pyplot as plt\n",
    "import seaborn as sns\n"
   ]
  },
  {
   "cell_type": "code",
   "execution_count": 47,
   "id": "c353d1e1",
   "metadata": {},
   "outputs": [
    {
     "data": {
      "text/html": [
       "<div>\n",
       "<style scoped>\n",
       "    .dataframe tbody tr th:only-of-type {\n",
       "        vertical-align: middle;\n",
       "    }\n",
       "\n",
       "    .dataframe tbody tr th {\n",
       "        vertical-align: top;\n",
       "    }\n",
       "\n",
       "    .dataframe thead th {\n",
       "        text-align: right;\n",
       "    }\n",
       "</style>\n",
       "<table border=\"1\" class=\"dataframe\">\n",
       "  <thead>\n",
       "    <tr style=\"text-align: right;\">\n",
       "      <th></th>\n",
       "      <th>country</th>\n",
       "      <th>year</th>\n",
       "      <th>sex</th>\n",
       "      <th>age</th>\n",
       "      <th>suicides_no</th>\n",
       "      <th>population</th>\n",
       "      <th>suicides/100k pop</th>\n",
       "      <th>country-year</th>\n",
       "      <th>HDI for year</th>\n",
       "      <th>gdp_for_year ($)</th>\n",
       "      <th>gdp_per_capita ($)</th>\n",
       "      <th>generation</th>\n",
       "    </tr>\n",
       "  </thead>\n",
       "  <tbody>\n",
       "    <tr>\n",
       "      <th>0</th>\n",
       "      <td>Albania</td>\n",
       "      <td>1987</td>\n",
       "      <td>male</td>\n",
       "      <td>15-24 years</td>\n",
       "      <td>21</td>\n",
       "      <td>312900</td>\n",
       "      <td>6.71</td>\n",
       "      <td>Albania1987</td>\n",
       "      <td>NaN</td>\n",
       "      <td>2,156,624,900</td>\n",
       "      <td>796</td>\n",
       "      <td>Generation X</td>\n",
       "    </tr>\n",
       "    <tr>\n",
       "      <th>1</th>\n",
       "      <td>Albania</td>\n",
       "      <td>1987</td>\n",
       "      <td>male</td>\n",
       "      <td>35-54 years</td>\n",
       "      <td>16</td>\n",
       "      <td>308000</td>\n",
       "      <td>5.19</td>\n",
       "      <td>Albania1987</td>\n",
       "      <td>NaN</td>\n",
       "      <td>2,156,624,900</td>\n",
       "      <td>796</td>\n",
       "      <td>Silent</td>\n",
       "    </tr>\n",
       "    <tr>\n",
       "      <th>2</th>\n",
       "      <td>Albania</td>\n",
       "      <td>1987</td>\n",
       "      <td>female</td>\n",
       "      <td>15-24 years</td>\n",
       "      <td>14</td>\n",
       "      <td>289700</td>\n",
       "      <td>4.83</td>\n",
       "      <td>Albania1987</td>\n",
       "      <td>NaN</td>\n",
       "      <td>2,156,624,900</td>\n",
       "      <td>796</td>\n",
       "      <td>Generation X</td>\n",
       "    </tr>\n",
       "    <tr>\n",
       "      <th>3</th>\n",
       "      <td>Albania</td>\n",
       "      <td>1987</td>\n",
       "      <td>male</td>\n",
       "      <td>75+ years</td>\n",
       "      <td>1</td>\n",
       "      <td>21800</td>\n",
       "      <td>4.59</td>\n",
       "      <td>Albania1987</td>\n",
       "      <td>NaN</td>\n",
       "      <td>2,156,624,900</td>\n",
       "      <td>796</td>\n",
       "      <td>G.I. Generation</td>\n",
       "    </tr>\n",
       "    <tr>\n",
       "      <th>4</th>\n",
       "      <td>Albania</td>\n",
       "      <td>1987</td>\n",
       "      <td>male</td>\n",
       "      <td>25-34 years</td>\n",
       "      <td>9</td>\n",
       "      <td>274300</td>\n",
       "      <td>3.28</td>\n",
       "      <td>Albania1987</td>\n",
       "      <td>NaN</td>\n",
       "      <td>2,156,624,900</td>\n",
       "      <td>796</td>\n",
       "      <td>Boomers</td>\n",
       "    </tr>\n",
       "  </tbody>\n",
       "</table>\n",
       "</div>"
      ],
      "text/plain": [
       "   country  year     sex          age  suicides_no  population  \\\n",
       "0  Albania  1987    male  15-24 years           21      312900   \n",
       "1  Albania  1987    male  35-54 years           16      308000   \n",
       "2  Albania  1987  female  15-24 years           14      289700   \n",
       "3  Albania  1987    male    75+ years            1       21800   \n",
       "4  Albania  1987    male  25-34 years            9      274300   \n",
       "\n",
       "   suicides/100k pop country-year  HDI for year  gdp_for_year ($)   \\\n",
       "0               6.71  Albania1987           NaN      2,156,624,900   \n",
       "1               5.19  Albania1987           NaN      2,156,624,900   \n",
       "2               4.83  Albania1987           NaN      2,156,624,900   \n",
       "3               4.59  Albania1987           NaN      2,156,624,900   \n",
       "4               3.28  Albania1987           NaN      2,156,624,900   \n",
       "\n",
       "   gdp_per_capita ($)       generation  \n",
       "0                 796     Generation X  \n",
       "1                 796           Silent  \n",
       "2                 796     Generation X  \n",
       "3                 796  G.I. Generation  \n",
       "4                 796          Boomers  "
      ]
     },
     "execution_count": 47,
     "metadata": {},
     "output_type": "execute_result"
    }
   ],
   "source": [
    "url = 'https://raw.githubusercontent.com/Sketchjar/MachineLearningHD/main/master.csv'\n",
    "\n",
    "originaldata = pd.read_csv(url)\n",
    "originaldata.head()"
   ]
  },
  {
   "cell_type": "code",
   "execution_count": 48,
   "id": "2f4d7ff1",
   "metadata": {},
   "outputs": [
    {
     "data": {
      "text/html": [
       "<div>\n",
       "<style scoped>\n",
       "    .dataframe tbody tr th:only-of-type {\n",
       "        vertical-align: middle;\n",
       "    }\n",
       "\n",
       "    .dataframe tbody tr th {\n",
       "        vertical-align: top;\n",
       "    }\n",
       "\n",
       "    .dataframe thead th {\n",
       "        text-align: right;\n",
       "    }\n",
       "</style>\n",
       "<table border=\"1\" class=\"dataframe\">\n",
       "  <thead>\n",
       "    <tr style=\"text-align: right;\">\n",
       "      <th></th>\n",
       "      <th>0</th>\n",
       "      <th>1</th>\n",
       "      <th>2</th>\n",
       "      <th>3</th>\n",
       "      <th>4</th>\n",
       "    </tr>\n",
       "  </thead>\n",
       "  <tbody>\n",
       "    <tr>\n",
       "      <th>country</th>\n",
       "      <td>Argentina</td>\n",
       "      <td>Argentina</td>\n",
       "      <td>Argentina</td>\n",
       "      <td>Argentina</td>\n",
       "      <td>Argentina</td>\n",
       "    </tr>\n",
       "    <tr>\n",
       "      <th>year</th>\n",
       "      <td>1985</td>\n",
       "      <td>1985</td>\n",
       "      <td>1985</td>\n",
       "      <td>1985</td>\n",
       "      <td>1985</td>\n",
       "    </tr>\n",
       "    <tr>\n",
       "      <th>sex</th>\n",
       "      <td>male</td>\n",
       "      <td>male</td>\n",
       "      <td>male</td>\n",
       "      <td>female</td>\n",
       "      <td>male</td>\n",
       "    </tr>\n",
       "    <tr>\n",
       "      <th>age</th>\n",
       "      <td>75+ years</td>\n",
       "      <td>55-74 years</td>\n",
       "      <td>35-54 years</td>\n",
       "      <td>55-74 years</td>\n",
       "      <td>25-34 years</td>\n",
       "    </tr>\n",
       "    <tr>\n",
       "      <th>suicides_no</th>\n",
       "      <td>202</td>\n",
       "      <td>485</td>\n",
       "      <td>414</td>\n",
       "      <td>210</td>\n",
       "      <td>177</td>\n",
       "    </tr>\n",
       "    <tr>\n",
       "      <th>population</th>\n",
       "      <td>363000</td>\n",
       "      <td>1997000</td>\n",
       "      <td>3346300</td>\n",
       "      <td>2304000</td>\n",
       "      <td>2234200</td>\n",
       "    </tr>\n",
       "    <tr>\n",
       "      <th>suicidesper100k</th>\n",
       "      <td>55.65</td>\n",
       "      <td>24.29</td>\n",
       "      <td>12.37</td>\n",
       "      <td>9.11</td>\n",
       "      <td>7.92</td>\n",
       "    </tr>\n",
       "    <tr>\n",
       "      <th>country-year</th>\n",
       "      <td>Argentina1985</td>\n",
       "      <td>Argentina1985</td>\n",
       "      <td>Argentina1985</td>\n",
       "      <td>Argentina1985</td>\n",
       "      <td>Argentina1985</td>\n",
       "    </tr>\n",
       "    <tr>\n",
       "      <th>yearlyHDI</th>\n",
       "      <td>0.694</td>\n",
       "      <td>0.694</td>\n",
       "      <td>0.694</td>\n",
       "      <td>0.694</td>\n",
       "      <td>0.694</td>\n",
       "    </tr>\n",
       "    <tr>\n",
       "      <th>GDPpyear</th>\n",
       "      <td>88416668900.0</td>\n",
       "      <td>88416668900.0</td>\n",
       "      <td>88416668900.0</td>\n",
       "      <td>88416668900.0</td>\n",
       "      <td>88416668900.0</td>\n",
       "    </tr>\n",
       "    <tr>\n",
       "      <th>GDPpcapital</th>\n",
       "      <td>3264</td>\n",
       "      <td>3264</td>\n",
       "      <td>3264</td>\n",
       "      <td>3264</td>\n",
       "      <td>3264</td>\n",
       "    </tr>\n",
       "    <tr>\n",
       "      <th>generation</th>\n",
       "      <td>G.I. Generation</td>\n",
       "      <td>G.I. Generation</td>\n",
       "      <td>Silent</td>\n",
       "      <td>G.I. Generation</td>\n",
       "      <td>Boomers</td>\n",
       "    </tr>\n",
       "    <tr>\n",
       "      <th>suicide%</th>\n",
       "      <td>0.055647</td>\n",
       "      <td>0.024286</td>\n",
       "      <td>0.012372</td>\n",
       "      <td>0.009115</td>\n",
       "      <td>0.007922</td>\n",
       "    </tr>\n",
       "    <tr>\n",
       "      <th>Individuals using the Internet (% of population)</th>\n",
       "      <td>0.0</td>\n",
       "      <td>0.0</td>\n",
       "      <td>0.0</td>\n",
       "      <td>0.0</td>\n",
       "      <td>0.0</td>\n",
       "    </tr>\n",
       "    <tr>\n",
       "      <th>Expense (% of GDP)</th>\n",
       "      <td>0.0</td>\n",
       "      <td>0.0</td>\n",
       "      <td>0.0</td>\n",
       "      <td>0.0</td>\n",
       "      <td>0.0</td>\n",
       "    </tr>\n",
       "    <tr>\n",
       "      <th>Compensation of employees (% of expense)</th>\n",
       "      <td>0.0</td>\n",
       "      <td>0.0</td>\n",
       "      <td>0.0</td>\n",
       "      <td>0.0</td>\n",
       "      <td>0.0</td>\n",
       "    </tr>\n",
       "    <tr>\n",
       "      <th>Unemployment, total (% of total labor force) (modeled ILO estimate)</th>\n",
       "      <td>0.0</td>\n",
       "      <td>0.0</td>\n",
       "      <td>0.0</td>\n",
       "      <td>0.0</td>\n",
       "      <td>0.0</td>\n",
       "    </tr>\n",
       "    <tr>\n",
       "      <th>Physicians (per 1,000 people)</th>\n",
       "      <td>0.0</td>\n",
       "      <td>0.0</td>\n",
       "      <td>0.0</td>\n",
       "      <td>0.0</td>\n",
       "      <td>0.0</td>\n",
       "    </tr>\n",
       "    <tr>\n",
       "      <th>Strength of legal rights index (0=weak to 12=strong)</th>\n",
       "      <td>0.0</td>\n",
       "      <td>0.0</td>\n",
       "      <td>0.0</td>\n",
       "      <td>0.0</td>\n",
       "      <td>0.0</td>\n",
       "    </tr>\n",
       "    <tr>\n",
       "      <th>Labor force, total</th>\n",
       "      <td>0</td>\n",
       "      <td>0</td>\n",
       "      <td>0</td>\n",
       "      <td>0</td>\n",
       "      <td>0</td>\n",
       "    </tr>\n",
       "    <tr>\n",
       "      <th>Life expectancy at birth, total (years)</th>\n",
       "      <td>0.0</td>\n",
       "      <td>0.0</td>\n",
       "      <td>0.0</td>\n",
       "      <td>0.0</td>\n",
       "      <td>0.0</td>\n",
       "    </tr>\n",
       "    <tr>\n",
       "      <th>Mobile cellular subscriptions (per 100 people)</th>\n",
       "      <td>0.0</td>\n",
       "      <td>0.0</td>\n",
       "      <td>0.0</td>\n",
       "      <td>0.0</td>\n",
       "      <td>0.0</td>\n",
       "    </tr>\n",
       "    <tr>\n",
       "      <th>Refugee population by country or territory of origin</th>\n",
       "      <td>0.0</td>\n",
       "      <td>0.0</td>\n",
       "      <td>0.0</td>\n",
       "      <td>0.0</td>\n",
       "      <td>0.0</td>\n",
       "    </tr>\n",
       "    <tr>\n",
       "      <th>Contributing family workers, total (% of total employment) (modeled ILO estimate)</th>\n",
       "      <td>0.0</td>\n",
       "      <td>0.0</td>\n",
       "      <td>0.0</td>\n",
       "      <td>0.0</td>\n",
       "      <td>0.0</td>\n",
       "    </tr>\n",
       "    <tr>\n",
       "      <th>Access to electricity (% of population)</th>\n",
       "      <td>0.0</td>\n",
       "      <td>0.0</td>\n",
       "      <td>0.0</td>\n",
       "      <td>0.0</td>\n",
       "      <td>0.0</td>\n",
       "    </tr>\n",
       "    <tr>\n",
       "      <th>Lower secondary completion rate, total (% of relevant age group)</th>\n",
       "      <td>0.0</td>\n",
       "      <td>0.0</td>\n",
       "      <td>0.0</td>\n",
       "      <td>0.0</td>\n",
       "      <td>0.0</td>\n",
       "    </tr>\n",
       "  </tbody>\n",
       "</table>\n",
       "</div>"
      ],
      "text/plain": [
       "                                                                  0  \\\n",
       "country                                                   Argentina   \n",
       "year                                                           1985   \n",
       "sex                                                            male   \n",
       "age                                                       75+ years   \n",
       "suicides_no                                                     202   \n",
       "population                                                   363000   \n",
       "suicidesper100k                                               55.65   \n",
       "country-year                                          Argentina1985   \n",
       "yearlyHDI                                                     0.694   \n",
       "GDPpyear                                              88416668900.0   \n",
       "GDPpcapital                                                    3264   \n",
       "generation                                          G.I. Generation   \n",
       "suicide%                                                   0.055647   \n",
       "Individuals using the Internet (% of population)                0.0   \n",
       "Expense (% of GDP)                                              0.0   \n",
       "Compensation of employees (% of expense)                        0.0   \n",
       "Unemployment, total (% of total labor force) (m...              0.0   \n",
       "Physicians (per 1,000 people)                                   0.0   \n",
       "Strength of legal rights index (0=weak to 12=st...              0.0   \n",
       "Labor force, total                                                0   \n",
       "Life expectancy at birth, total (years)                         0.0   \n",
       "Mobile cellular subscriptions (per 100 people)                  0.0   \n",
       "Refugee population by country or territory of o...              0.0   \n",
       "Contributing family workers, total (% of total ...              0.0   \n",
       "Access to electricity (% of population)                         0.0   \n",
       "Lower secondary completion rate, total (% of re...              0.0   \n",
       "\n",
       "                                                                  1  \\\n",
       "country                                                   Argentina   \n",
       "year                                                           1985   \n",
       "sex                                                            male   \n",
       "age                                                     55-74 years   \n",
       "suicides_no                                                     485   \n",
       "population                                                  1997000   \n",
       "suicidesper100k                                               24.29   \n",
       "country-year                                          Argentina1985   \n",
       "yearlyHDI                                                     0.694   \n",
       "GDPpyear                                              88416668900.0   \n",
       "GDPpcapital                                                    3264   \n",
       "generation                                          G.I. Generation   \n",
       "suicide%                                                   0.024286   \n",
       "Individuals using the Internet (% of population)                0.0   \n",
       "Expense (% of GDP)                                              0.0   \n",
       "Compensation of employees (% of expense)                        0.0   \n",
       "Unemployment, total (% of total labor force) (m...              0.0   \n",
       "Physicians (per 1,000 people)                                   0.0   \n",
       "Strength of legal rights index (0=weak to 12=st...              0.0   \n",
       "Labor force, total                                                0   \n",
       "Life expectancy at birth, total (years)                         0.0   \n",
       "Mobile cellular subscriptions (per 100 people)                  0.0   \n",
       "Refugee population by country or territory of o...              0.0   \n",
       "Contributing family workers, total (% of total ...              0.0   \n",
       "Access to electricity (% of population)                         0.0   \n",
       "Lower secondary completion rate, total (% of re...              0.0   \n",
       "\n",
       "                                                                2  \\\n",
       "country                                                 Argentina   \n",
       "year                                                         1985   \n",
       "sex                                                          male   \n",
       "age                                                   35-54 years   \n",
       "suicides_no                                                   414   \n",
       "population                                                3346300   \n",
       "suicidesper100k                                             12.37   \n",
       "country-year                                        Argentina1985   \n",
       "yearlyHDI                                                   0.694   \n",
       "GDPpyear                                            88416668900.0   \n",
       "GDPpcapital                                                  3264   \n",
       "generation                                                 Silent   \n",
       "suicide%                                                 0.012372   \n",
       "Individuals using the Internet (% of population)              0.0   \n",
       "Expense (% of GDP)                                            0.0   \n",
       "Compensation of employees (% of expense)                      0.0   \n",
       "Unemployment, total (% of total labor force) (m...            0.0   \n",
       "Physicians (per 1,000 people)                                 0.0   \n",
       "Strength of legal rights index (0=weak to 12=st...            0.0   \n",
       "Labor force, total                                              0   \n",
       "Life expectancy at birth, total (years)                       0.0   \n",
       "Mobile cellular subscriptions (per 100 people)                0.0   \n",
       "Refugee population by country or territory of o...            0.0   \n",
       "Contributing family workers, total (% of total ...            0.0   \n",
       "Access to electricity (% of population)                       0.0   \n",
       "Lower secondary completion rate, total (% of re...            0.0   \n",
       "\n",
       "                                                                  3  \\\n",
       "country                                                   Argentina   \n",
       "year                                                           1985   \n",
       "sex                                                          female   \n",
       "age                                                     55-74 years   \n",
       "suicides_no                                                     210   \n",
       "population                                                  2304000   \n",
       "suicidesper100k                                                9.11   \n",
       "country-year                                          Argentina1985   \n",
       "yearlyHDI                                                     0.694   \n",
       "GDPpyear                                              88416668900.0   \n",
       "GDPpcapital                                                    3264   \n",
       "generation                                          G.I. Generation   \n",
       "suicide%                                                   0.009115   \n",
       "Individuals using the Internet (% of population)                0.0   \n",
       "Expense (% of GDP)                                              0.0   \n",
       "Compensation of employees (% of expense)                        0.0   \n",
       "Unemployment, total (% of total labor force) (m...              0.0   \n",
       "Physicians (per 1,000 people)                                   0.0   \n",
       "Strength of legal rights index (0=weak to 12=st...              0.0   \n",
       "Labor force, total                                                0   \n",
       "Life expectancy at birth, total (years)                         0.0   \n",
       "Mobile cellular subscriptions (per 100 people)                  0.0   \n",
       "Refugee population by country or territory of o...              0.0   \n",
       "Contributing family workers, total (% of total ...              0.0   \n",
       "Access to electricity (% of population)                         0.0   \n",
       "Lower secondary completion rate, total (% of re...              0.0   \n",
       "\n",
       "                                                                4  \n",
       "country                                                 Argentina  \n",
       "year                                                         1985  \n",
       "sex                                                          male  \n",
       "age                                                   25-34 years  \n",
       "suicides_no                                                   177  \n",
       "population                                                2234200  \n",
       "suicidesper100k                                              7.92  \n",
       "country-year                                        Argentina1985  \n",
       "yearlyHDI                                                   0.694  \n",
       "GDPpyear                                            88416668900.0  \n",
       "GDPpcapital                                                  3264  \n",
       "generation                                                Boomers  \n",
       "suicide%                                                 0.007922  \n",
       "Individuals using the Internet (% of population)              0.0  \n",
       "Expense (% of GDP)                                            0.0  \n",
       "Compensation of employees (% of expense)                      0.0  \n",
       "Unemployment, total (% of total labor force) (m...            0.0  \n",
       "Physicians (per 1,000 people)                                 0.0  \n",
       "Strength of legal rights index (0=weak to 12=st...            0.0  \n",
       "Labor force, total                                              0  \n",
       "Life expectancy at birth, total (years)                       0.0  \n",
       "Mobile cellular subscriptions (per 100 people)                0.0  \n",
       "Refugee population by country or territory of o...            0.0  \n",
       "Contributing family workers, total (% of total ...            0.0  \n",
       "Access to electricity (% of population)                       0.0  \n",
       "Lower secondary completion rate, total (% of re...            0.0  "
      ]
     },
     "execution_count": 48,
     "metadata": {},
     "output_type": "execute_result"
    }
   ],
   "source": [
    "url1 = 'https://raw.githubusercontent.com/Sketchjar/MachineLearningHD/main/suicidedataextrafestures.csv'\n",
    "extra_data = pd.read_csv(url1)\n",
    "\n",
    "extra_data.head().T"
   ]
  },
  {
   "cell_type": "code",
   "execution_count": 49,
   "id": "910d5898",
   "metadata": {},
   "outputs": [],
   "source": [
    "extra_data.columns = ['country', 'year', 'sex', 'age', 'suicides_no', 'population','suicidesper100k', 'country-year', 'yearlyHDI',\n",
    "    'GDPpyear', 'GDPpcapita', 'generation', 'suicide%', 'Internetusers', 'Expenses', 'employeecompensation','Unemployment', 'Physiciansp1000', 'Legalrights', 'Laborforcetotal','Lifeexpectancy', 'Mobilesubscriptionsp100','Refugees', 'Selfemployed', 'electricityacess', 'secondarycompletion']"
   ]
  },
  {
   "cell_type": "code",
   "execution_count": 50,
   "id": "6e6ce3b4",
   "metadata": {},
   "outputs": [
    {
     "data": {
      "text/plain": [
       "(15110, 26)"
      ]
     },
     "execution_count": 50,
     "metadata": {},
     "output_type": "execute_result"
    }
   ],
   "source": [
    "extra_data.shape"
   ]
  },
  {
   "cell_type": "code",
   "execution_count": 51,
   "id": "e3e27ad1",
   "metadata": {},
   "outputs": [
    {
     "data": {
      "text/html": [
       "<div>\n",
       "<style scoped>\n",
       "    .dataframe tbody tr th:only-of-type {\n",
       "        vertical-align: middle;\n",
       "    }\n",
       "\n",
       "    .dataframe tbody tr th {\n",
       "        vertical-align: top;\n",
       "    }\n",
       "\n",
       "    .dataframe thead th {\n",
       "        text-align: right;\n",
       "    }\n",
       "</style>\n",
       "<table border=\"1\" class=\"dataframe\">\n",
       "  <thead>\n",
       "    <tr style=\"text-align: right;\">\n",
       "      <th></th>\n",
       "      <th>country</th>\n",
       "      <th>year</th>\n",
       "      <th>sex</th>\n",
       "      <th>age</th>\n",
       "      <th>suicides_no</th>\n",
       "      <th>population</th>\n",
       "      <th>suicidesper100k</th>\n",
       "      <th>country-year</th>\n",
       "      <th>yearlyHDI</th>\n",
       "      <th>GDPpyear</th>\n",
       "      <th>...</th>\n",
       "      <th>Unemployment</th>\n",
       "      <th>Physiciansp1000</th>\n",
       "      <th>Legalrights</th>\n",
       "      <th>Laborforcetotal</th>\n",
       "      <th>Lifeexpectancy</th>\n",
       "      <th>Mobilesubscriptionsp100</th>\n",
       "      <th>Refugees</th>\n",
       "      <th>Selfemployed</th>\n",
       "      <th>electricityacess</th>\n",
       "      <th>secondarycompletion</th>\n",
       "    </tr>\n",
       "  </thead>\n",
       "  <tbody>\n",
       "    <tr>\n",
       "      <th>0</th>\n",
       "      <td>Argentina</td>\n",
       "      <td>1985</td>\n",
       "      <td>male</td>\n",
       "      <td>75+ years</td>\n",
       "      <td>202</td>\n",
       "      <td>363000</td>\n",
       "      <td>55.65</td>\n",
       "      <td>Argentina1985</td>\n",
       "      <td>0.694</td>\n",
       "      <td>8.841667e+10</td>\n",
       "      <td>...</td>\n",
       "      <td>0.0</td>\n",
       "      <td>0.0</td>\n",
       "      <td>0.0</td>\n",
       "      <td>0</td>\n",
       "      <td>0.0</td>\n",
       "      <td>0.0</td>\n",
       "      <td>0.0</td>\n",
       "      <td>0.0</td>\n",
       "      <td>0.0</td>\n",
       "      <td>0.0</td>\n",
       "    </tr>\n",
       "    <tr>\n",
       "      <th>1</th>\n",
       "      <td>Argentina</td>\n",
       "      <td>1985</td>\n",
       "      <td>male</td>\n",
       "      <td>55-74 years</td>\n",
       "      <td>485</td>\n",
       "      <td>1997000</td>\n",
       "      <td>24.29</td>\n",
       "      <td>Argentina1985</td>\n",
       "      <td>0.694</td>\n",
       "      <td>8.841667e+10</td>\n",
       "      <td>...</td>\n",
       "      <td>0.0</td>\n",
       "      <td>0.0</td>\n",
       "      <td>0.0</td>\n",
       "      <td>0</td>\n",
       "      <td>0.0</td>\n",
       "      <td>0.0</td>\n",
       "      <td>0.0</td>\n",
       "      <td>0.0</td>\n",
       "      <td>0.0</td>\n",
       "      <td>0.0</td>\n",
       "    </tr>\n",
       "    <tr>\n",
       "      <th>2</th>\n",
       "      <td>Argentina</td>\n",
       "      <td>1985</td>\n",
       "      <td>male</td>\n",
       "      <td>35-54 years</td>\n",
       "      <td>414</td>\n",
       "      <td>3346300</td>\n",
       "      <td>12.37</td>\n",
       "      <td>Argentina1985</td>\n",
       "      <td>0.694</td>\n",
       "      <td>8.841667e+10</td>\n",
       "      <td>...</td>\n",
       "      <td>0.0</td>\n",
       "      <td>0.0</td>\n",
       "      <td>0.0</td>\n",
       "      <td>0</td>\n",
       "      <td>0.0</td>\n",
       "      <td>0.0</td>\n",
       "      <td>0.0</td>\n",
       "      <td>0.0</td>\n",
       "      <td>0.0</td>\n",
       "      <td>0.0</td>\n",
       "    </tr>\n",
       "    <tr>\n",
       "      <th>3</th>\n",
       "      <td>Argentina</td>\n",
       "      <td>1985</td>\n",
       "      <td>female</td>\n",
       "      <td>55-74 years</td>\n",
       "      <td>210</td>\n",
       "      <td>2304000</td>\n",
       "      <td>9.11</td>\n",
       "      <td>Argentina1985</td>\n",
       "      <td>0.694</td>\n",
       "      <td>8.841667e+10</td>\n",
       "      <td>...</td>\n",
       "      <td>0.0</td>\n",
       "      <td>0.0</td>\n",
       "      <td>0.0</td>\n",
       "      <td>0</td>\n",
       "      <td>0.0</td>\n",
       "      <td>0.0</td>\n",
       "      <td>0.0</td>\n",
       "      <td>0.0</td>\n",
       "      <td>0.0</td>\n",
       "      <td>0.0</td>\n",
       "    </tr>\n",
       "    <tr>\n",
       "      <th>4</th>\n",
       "      <td>Argentina</td>\n",
       "      <td>1985</td>\n",
       "      <td>male</td>\n",
       "      <td>25-34 years</td>\n",
       "      <td>177</td>\n",
       "      <td>2234200</td>\n",
       "      <td>7.92</td>\n",
       "      <td>Argentina1985</td>\n",
       "      <td>0.694</td>\n",
       "      <td>8.841667e+10</td>\n",
       "      <td>...</td>\n",
       "      <td>0.0</td>\n",
       "      <td>0.0</td>\n",
       "      <td>0.0</td>\n",
       "      <td>0</td>\n",
       "      <td>0.0</td>\n",
       "      <td>0.0</td>\n",
       "      <td>0.0</td>\n",
       "      <td>0.0</td>\n",
       "      <td>0.0</td>\n",
       "      <td>0.0</td>\n",
       "    </tr>\n",
       "  </tbody>\n",
       "</table>\n",
       "<p>5 rows × 26 columns</p>\n",
       "</div>"
      ],
      "text/plain": [
       "     country  year     sex          age  suicides_no  population  \\\n",
       "0  Argentina  1985    male    75+ years          202      363000   \n",
       "1  Argentina  1985    male  55-74 years          485     1997000   \n",
       "2  Argentina  1985    male  35-54 years          414     3346300   \n",
       "3  Argentina  1985  female  55-74 years          210     2304000   \n",
       "4  Argentina  1985    male  25-34 years          177     2234200   \n",
       "\n",
       "   suicidesper100k   country-year  yearlyHDI      GDPpyear  ...  Unemployment  \\\n",
       "0            55.65  Argentina1985      0.694  8.841667e+10  ...           0.0   \n",
       "1            24.29  Argentina1985      0.694  8.841667e+10  ...           0.0   \n",
       "2            12.37  Argentina1985      0.694  8.841667e+10  ...           0.0   \n",
       "3             9.11  Argentina1985      0.694  8.841667e+10  ...           0.0   \n",
       "4             7.92  Argentina1985      0.694  8.841667e+10  ...           0.0   \n",
       "\n",
       "  Physiciansp1000  Legalrights  Laborforcetotal  Lifeexpectancy  \\\n",
       "0             0.0          0.0                0             0.0   \n",
       "1             0.0          0.0                0             0.0   \n",
       "2             0.0          0.0                0             0.0   \n",
       "3             0.0          0.0                0             0.0   \n",
       "4             0.0          0.0                0             0.0   \n",
       "\n",
       "   Mobilesubscriptionsp100  Refugees  Selfemployed  electricityacess  \\\n",
       "0                      0.0       0.0           0.0               0.0   \n",
       "1                      0.0       0.0           0.0               0.0   \n",
       "2                      0.0       0.0           0.0               0.0   \n",
       "3                      0.0       0.0           0.0               0.0   \n",
       "4                      0.0       0.0           0.0               0.0   \n",
       "\n",
       "   secondarycompletion  \n",
       "0                  0.0  \n",
       "1                  0.0  \n",
       "2                  0.0  \n",
       "3                  0.0  \n",
       "4                  0.0  \n",
       "\n",
       "[5 rows x 26 columns]"
      ]
     },
     "execution_count": 51,
     "metadata": {},
     "output_type": "execute_result"
    }
   ],
   "source": [
    "extra_data.head()"
   ]
  },
  {
   "cell_type": "code",
   "execution_count": 52,
   "id": "13291f22",
   "metadata": {},
   "outputs": [
    {
     "data": {
      "text/html": [
       "<div>\n",
       "<style scoped>\n",
       "    .dataframe tbody tr th:only-of-type {\n",
       "        vertical-align: middle;\n",
       "    }\n",
       "\n",
       "    .dataframe tbody tr th {\n",
       "        vertical-align: top;\n",
       "    }\n",
       "\n",
       "    .dataframe thead th {\n",
       "        text-align: right;\n",
       "    }\n",
       "</style>\n",
       "<table border=\"1\" class=\"dataframe\">\n",
       "  <thead>\n",
       "    <tr style=\"text-align: right;\">\n",
       "      <th></th>\n",
       "      <th>country</th>\n",
       "      <th>year</th>\n",
       "      <th>sex</th>\n",
       "      <th>age</th>\n",
       "      <th>suicides_no</th>\n",
       "      <th>population</th>\n",
       "      <th>suicides/100k pop</th>\n",
       "      <th>country-year</th>\n",
       "      <th>HDI for year</th>\n",
       "      <th>gdp_for_year ($)</th>\n",
       "      <th>gdp_per_capita ($)</th>\n",
       "      <th>generation</th>\n",
       "    </tr>\n",
       "  </thead>\n",
       "  <tbody>\n",
       "    <tr>\n",
       "      <th>0</th>\n",
       "      <td>Albania</td>\n",
       "      <td>1987</td>\n",
       "      <td>male</td>\n",
       "      <td>15-24 years</td>\n",
       "      <td>21</td>\n",
       "      <td>312900</td>\n",
       "      <td>6.71</td>\n",
       "      <td>Albania1987</td>\n",
       "      <td>NaN</td>\n",
       "      <td>2,156,624,900</td>\n",
       "      <td>796</td>\n",
       "      <td>Generation X</td>\n",
       "    </tr>\n",
       "    <tr>\n",
       "      <th>1</th>\n",
       "      <td>Albania</td>\n",
       "      <td>1987</td>\n",
       "      <td>male</td>\n",
       "      <td>35-54 years</td>\n",
       "      <td>16</td>\n",
       "      <td>308000</td>\n",
       "      <td>5.19</td>\n",
       "      <td>Albania1987</td>\n",
       "      <td>NaN</td>\n",
       "      <td>2,156,624,900</td>\n",
       "      <td>796</td>\n",
       "      <td>Silent</td>\n",
       "    </tr>\n",
       "    <tr>\n",
       "      <th>2</th>\n",
       "      <td>Albania</td>\n",
       "      <td>1987</td>\n",
       "      <td>female</td>\n",
       "      <td>15-24 years</td>\n",
       "      <td>14</td>\n",
       "      <td>289700</td>\n",
       "      <td>4.83</td>\n",
       "      <td>Albania1987</td>\n",
       "      <td>NaN</td>\n",
       "      <td>2,156,624,900</td>\n",
       "      <td>796</td>\n",
       "      <td>Generation X</td>\n",
       "    </tr>\n",
       "    <tr>\n",
       "      <th>3</th>\n",
       "      <td>Albania</td>\n",
       "      <td>1987</td>\n",
       "      <td>male</td>\n",
       "      <td>75+ years</td>\n",
       "      <td>1</td>\n",
       "      <td>21800</td>\n",
       "      <td>4.59</td>\n",
       "      <td>Albania1987</td>\n",
       "      <td>NaN</td>\n",
       "      <td>2,156,624,900</td>\n",
       "      <td>796</td>\n",
       "      <td>G.I. Generation</td>\n",
       "    </tr>\n",
       "    <tr>\n",
       "      <th>4</th>\n",
       "      <td>Albania</td>\n",
       "      <td>1987</td>\n",
       "      <td>male</td>\n",
       "      <td>25-34 years</td>\n",
       "      <td>9</td>\n",
       "      <td>274300</td>\n",
       "      <td>3.28</td>\n",
       "      <td>Albania1987</td>\n",
       "      <td>NaN</td>\n",
       "      <td>2,156,624,900</td>\n",
       "      <td>796</td>\n",
       "      <td>Boomers</td>\n",
       "    </tr>\n",
       "  </tbody>\n",
       "</table>\n",
       "</div>"
      ],
      "text/plain": [
       "   country  year     sex          age  suicides_no  population  \\\n",
       "0  Albania  1987    male  15-24 years           21      312900   \n",
       "1  Albania  1987    male  35-54 years           16      308000   \n",
       "2  Albania  1987  female  15-24 years           14      289700   \n",
       "3  Albania  1987    male    75+ years            1       21800   \n",
       "4  Albania  1987    male  25-34 years            9      274300   \n",
       "\n",
       "   suicides/100k pop country-year  HDI for year  gdp_for_year ($)   \\\n",
       "0               6.71  Albania1987           NaN      2,156,624,900   \n",
       "1               5.19  Albania1987           NaN      2,156,624,900   \n",
       "2               4.83  Albania1987           NaN      2,156,624,900   \n",
       "3               4.59  Albania1987           NaN      2,156,624,900   \n",
       "4               3.28  Albania1987           NaN      2,156,624,900   \n",
       "\n",
       "   gdp_per_capita ($)       generation  \n",
       "0                 796     Generation X  \n",
       "1                 796           Silent  \n",
       "2                 796     Generation X  \n",
       "3                 796  G.I. Generation  \n",
       "4                 796          Boomers  "
      ]
     },
     "execution_count": 52,
     "metadata": {},
     "output_type": "execute_result"
    }
   ],
   "source": [
    "originaldata.head()"
   ]
  },
  {
   "cell_type": "code",
   "execution_count": 53,
   "id": "b6c47771",
   "metadata": {},
   "outputs": [],
   "source": [
    "originaldata.columns = ['country', 'year', 'sex', 'age', 'suicides_no', 'population','suicidesper100k','country-year', 'yearlyHDI', 'GDPpyear', 'GDPpcapita', 'generation']"
   ]
  },
  {
   "cell_type": "code",
   "execution_count": 54,
   "id": "78dc3ff7",
   "metadata": {},
   "outputs": [
    {
     "data": {
      "text/html": [
       "<div>\n",
       "<style scoped>\n",
       "    .dataframe tbody tr th:only-of-type {\n",
       "        vertical-align: middle;\n",
       "    }\n",
       "\n",
       "    .dataframe tbody tr th {\n",
       "        vertical-align: top;\n",
       "    }\n",
       "\n",
       "    .dataframe thead th {\n",
       "        text-align: right;\n",
       "    }\n",
       "</style>\n",
       "<table border=\"1\" class=\"dataframe\">\n",
       "  <thead>\n",
       "    <tr style=\"text-align: right;\">\n",
       "      <th></th>\n",
       "      <th>country</th>\n",
       "      <th>year</th>\n",
       "      <th>sex</th>\n",
       "      <th>age</th>\n",
       "      <th>suicides_no</th>\n",
       "      <th>population</th>\n",
       "      <th>suicidesper100k</th>\n",
       "      <th>country-year</th>\n",
       "      <th>yearlyHDI</th>\n",
       "      <th>GDPpyear</th>\n",
       "      <th>...</th>\n",
       "      <th>Unemployment</th>\n",
       "      <th>Physiciansp1000</th>\n",
       "      <th>Legalrights</th>\n",
       "      <th>Laborforcetotal</th>\n",
       "      <th>Lifeexpectancy</th>\n",
       "      <th>Mobilesubscriptionsp100</th>\n",
       "      <th>Refugees</th>\n",
       "      <th>Selfemployed</th>\n",
       "      <th>electricityacess</th>\n",
       "      <th>secondarycompletion</th>\n",
       "    </tr>\n",
       "  </thead>\n",
       "  <tbody>\n",
       "    <tr>\n",
       "      <th>0</th>\n",
       "      <td>Argentina</td>\n",
       "      <td>1985</td>\n",
       "      <td>male</td>\n",
       "      <td>75+ years</td>\n",
       "      <td>202</td>\n",
       "      <td>363000</td>\n",
       "      <td>55.65</td>\n",
       "      <td>Argentina1985</td>\n",
       "      <td>0.694</td>\n",
       "      <td>8.841667e+10</td>\n",
       "      <td>...</td>\n",
       "      <td>0.0</td>\n",
       "      <td>0.0</td>\n",
       "      <td>0.0</td>\n",
       "      <td>0</td>\n",
       "      <td>0.0</td>\n",
       "      <td>0.0</td>\n",
       "      <td>0.0</td>\n",
       "      <td>0.0</td>\n",
       "      <td>0.0</td>\n",
       "      <td>0.0</td>\n",
       "    </tr>\n",
       "    <tr>\n",
       "      <th>1</th>\n",
       "      <td>Argentina</td>\n",
       "      <td>1985</td>\n",
       "      <td>male</td>\n",
       "      <td>55-74 years</td>\n",
       "      <td>485</td>\n",
       "      <td>1997000</td>\n",
       "      <td>24.29</td>\n",
       "      <td>Argentina1985</td>\n",
       "      <td>0.694</td>\n",
       "      <td>8.841667e+10</td>\n",
       "      <td>...</td>\n",
       "      <td>0.0</td>\n",
       "      <td>0.0</td>\n",
       "      <td>0.0</td>\n",
       "      <td>0</td>\n",
       "      <td>0.0</td>\n",
       "      <td>0.0</td>\n",
       "      <td>0.0</td>\n",
       "      <td>0.0</td>\n",
       "      <td>0.0</td>\n",
       "      <td>0.0</td>\n",
       "    </tr>\n",
       "    <tr>\n",
       "      <th>2</th>\n",
       "      <td>Argentina</td>\n",
       "      <td>1985</td>\n",
       "      <td>male</td>\n",
       "      <td>35-54 years</td>\n",
       "      <td>414</td>\n",
       "      <td>3346300</td>\n",
       "      <td>12.37</td>\n",
       "      <td>Argentina1985</td>\n",
       "      <td>0.694</td>\n",
       "      <td>8.841667e+10</td>\n",
       "      <td>...</td>\n",
       "      <td>0.0</td>\n",
       "      <td>0.0</td>\n",
       "      <td>0.0</td>\n",
       "      <td>0</td>\n",
       "      <td>0.0</td>\n",
       "      <td>0.0</td>\n",
       "      <td>0.0</td>\n",
       "      <td>0.0</td>\n",
       "      <td>0.0</td>\n",
       "      <td>0.0</td>\n",
       "    </tr>\n",
       "    <tr>\n",
       "      <th>3</th>\n",
       "      <td>Argentina</td>\n",
       "      <td>1985</td>\n",
       "      <td>female</td>\n",
       "      <td>55-74 years</td>\n",
       "      <td>210</td>\n",
       "      <td>2304000</td>\n",
       "      <td>9.11</td>\n",
       "      <td>Argentina1985</td>\n",
       "      <td>0.694</td>\n",
       "      <td>8.841667e+10</td>\n",
       "      <td>...</td>\n",
       "      <td>0.0</td>\n",
       "      <td>0.0</td>\n",
       "      <td>0.0</td>\n",
       "      <td>0</td>\n",
       "      <td>0.0</td>\n",
       "      <td>0.0</td>\n",
       "      <td>0.0</td>\n",
       "      <td>0.0</td>\n",
       "      <td>0.0</td>\n",
       "      <td>0.0</td>\n",
       "    </tr>\n",
       "    <tr>\n",
       "      <th>4</th>\n",
       "      <td>Argentina</td>\n",
       "      <td>1985</td>\n",
       "      <td>male</td>\n",
       "      <td>25-34 years</td>\n",
       "      <td>177</td>\n",
       "      <td>2234200</td>\n",
       "      <td>7.92</td>\n",
       "      <td>Argentina1985</td>\n",
       "      <td>0.694</td>\n",
       "      <td>8.841667e+10</td>\n",
       "      <td>...</td>\n",
       "      <td>0.0</td>\n",
       "      <td>0.0</td>\n",
       "      <td>0.0</td>\n",
       "      <td>0</td>\n",
       "      <td>0.0</td>\n",
       "      <td>0.0</td>\n",
       "      <td>0.0</td>\n",
       "      <td>0.0</td>\n",
       "      <td>0.0</td>\n",
       "      <td>0.0</td>\n",
       "    </tr>\n",
       "  </tbody>\n",
       "</table>\n",
       "<p>5 rows × 26 columns</p>\n",
       "</div>"
      ],
      "text/plain": [
       "     country  year     sex          age  suicides_no  population  \\\n",
       "0  Argentina  1985    male    75+ years          202      363000   \n",
       "1  Argentina  1985    male  55-74 years          485     1997000   \n",
       "2  Argentina  1985    male  35-54 years          414     3346300   \n",
       "3  Argentina  1985  female  55-74 years          210     2304000   \n",
       "4  Argentina  1985    male  25-34 years          177     2234200   \n",
       "\n",
       "   suicidesper100k   country-year  yearlyHDI      GDPpyear  ...  Unemployment  \\\n",
       "0            55.65  Argentina1985      0.694  8.841667e+10  ...           0.0   \n",
       "1            24.29  Argentina1985      0.694  8.841667e+10  ...           0.0   \n",
       "2            12.37  Argentina1985      0.694  8.841667e+10  ...           0.0   \n",
       "3             9.11  Argentina1985      0.694  8.841667e+10  ...           0.0   \n",
       "4             7.92  Argentina1985      0.694  8.841667e+10  ...           0.0   \n",
       "\n",
       "  Physiciansp1000  Legalrights  Laborforcetotal  Lifeexpectancy  \\\n",
       "0             0.0          0.0                0             0.0   \n",
       "1             0.0          0.0                0             0.0   \n",
       "2             0.0          0.0                0             0.0   \n",
       "3             0.0          0.0                0             0.0   \n",
       "4             0.0          0.0                0             0.0   \n",
       "\n",
       "   Mobilesubscriptionsp100  Refugees  Selfemployed  electricityacess  \\\n",
       "0                      0.0       0.0           0.0               0.0   \n",
       "1                      0.0       0.0           0.0               0.0   \n",
       "2                      0.0       0.0           0.0               0.0   \n",
       "3                      0.0       0.0           0.0               0.0   \n",
       "4                      0.0       0.0           0.0               0.0   \n",
       "\n",
       "   secondarycompletion  \n",
       "0                  0.0  \n",
       "1                  0.0  \n",
       "2                  0.0  \n",
       "3                  0.0  \n",
       "4                  0.0  \n",
       "\n",
       "[5 rows x 26 columns]"
      ]
     },
     "execution_count": 54,
     "metadata": {},
     "output_type": "execute_result"
    }
   ],
   "source": [
    "extra_data.head()"
   ]
  },
  {
   "cell_type": "code",
   "execution_count": 55,
   "id": "f5994e1c",
   "metadata": {},
   "outputs": [
    {
     "data": {
      "text/plain": [
       "0          male\n",
       "1          male\n",
       "2        female\n",
       "3          male\n",
       "4          male\n",
       "          ...  \n",
       "27815    female\n",
       "27816    female\n",
       "27817      male\n",
       "27818    female\n",
       "27819    female\n",
       "Name: sex, Length: 27820, dtype: category\n",
       "Categories (2, object): ['female', 'male']"
      ]
     },
     "execution_count": 55,
     "metadata": {},
     "output_type": "execute_result"
    }
   ],
   "source": [
    "#fixing and cleaning the original data  \n",
    "originaldata['GDPpyear'] = originaldata.apply(lambda x: float(x['GDPpyear'].replace(',', '')), axis=1)\n",
    "originaldata.sex.astype('category')"
   ]
  },
  {
   "cell_type": "code",
   "execution_count": 56,
   "id": "ce2de455",
   "metadata": {},
   "outputs": [],
   "source": [
    "countrynames = ['Argentina','Armenia','Australia',    'Austria',\n",
    "    'Belgium',    'Brazil',    'Bulgaria',    'Canada',    'Chile',    'Colombia',    'Croatia',    'Cuba',    'Czech Republic',    'Denmark',\n",
    "    'Finland',    'France',    'Germany',    'Greece',    'Hungary',    'Iceland',   'Ireland', 'Israel','Italy','Japan','Mexico', 'Netherlands','New Zealand','Norway','Poland', 'Portugal','Romania','Russian Federation','South Africa', 'Spain','Sweden', 'Switzerland','Thailand', 'Turkmenistan','Ukraine','United Kingdom', 'United States']"
   ]
  },
  {
   "cell_type": "code",
   "execution_count": 57,
   "id": "79824985",
   "metadata": {},
   "outputs": [
    {
     "name": "stdout",
     "output_type": "stream",
     "text": [
      "             country  year     sex          age  suicides_no  population  \\\n",
      "0          Argentina  1985    male    75+ years          202      363000   \n",
      "1          Argentina  1985    male  55-74 years          485     1997000   \n",
      "2          Argentina  1985    male  35-54 years          414     3346300   \n",
      "3          Argentina  1985  female  55-74 years          210     2304000   \n",
      "4          Argentina  1985    male  25-34 years          177     2234200   \n",
      "...              ...   ...     ...          ...          ...         ...   \n",
      "14841  United States  2015  female  25-34 years         1444    21555712   \n",
      "14842  United States  2015  female  15-24 years         1132    21633813   \n",
      "14843  United States  2015  female    75+ years          540    11778666   \n",
      "14844  United States  2015    male   5-14 years          255    21273987   \n",
      "14845  United States  2015  female   5-14 years          158    20342901   \n",
      "\n",
      "       suicidesper100k       country-year  yearlyHDI      GDPpyear  ...  \\\n",
      "0                55.65      Argentina1985      0.694  8.841667e+10  ...   \n",
      "1                24.29      Argentina1985      0.694  8.841667e+10  ...   \n",
      "2                12.37      Argentina1985      0.694  8.841667e+10  ...   \n",
      "3                 9.11      Argentina1985      0.694  8.841667e+10  ...   \n",
      "4                 7.92      Argentina1985      0.694  8.841667e+10  ...   \n",
      "...                ...                ...        ...           ...  ...   \n",
      "14841             6.70  United States2015        NaN  1.812070e+13  ...   \n",
      "14842             5.23  United States2015        NaN  1.812070e+13  ...   \n",
      "14843             4.58  United States2015        NaN  1.812070e+13  ...   \n",
      "14844             1.20  United States2015        NaN  1.812070e+13  ...   \n",
      "14845             0.78  United States2015        NaN  1.812070e+13  ...   \n",
      "\n",
      "       Unemployment Physiciansp1000  Legalrights  Laborforcetotal  \\\n",
      "0               0.0             0.0          0.0                0   \n",
      "1               0.0             0.0          0.0                0   \n",
      "2               0.0             0.0          0.0                0   \n",
      "3               0.0             0.0          0.0                0   \n",
      "4               0.0             0.0          0.0                0   \n",
      "...             ...             ...          ...              ...   \n",
      "14841           0.0             0.0          0.0                0   \n",
      "14842           0.0             0.0          0.0                0   \n",
      "14843           0.0             0.0          0.0                0   \n",
      "14844           0.0             0.0          0.0                0   \n",
      "14845           0.0             0.0          0.0                0   \n",
      "\n",
      "       Lifeexpectancy  Mobilesubscriptionsp100  Refugees  Selfemployed  \\\n",
      "0                 0.0                      0.0       0.0           0.0   \n",
      "1                 0.0                      0.0       0.0           0.0   \n",
      "2                 0.0                      0.0       0.0           0.0   \n",
      "3                 0.0                      0.0       0.0           0.0   \n",
      "4                 0.0                      0.0       0.0           0.0   \n",
      "...               ...                      ...       ...           ...   \n",
      "14841             0.0                      0.0       0.0           0.0   \n",
      "14842             0.0                      0.0       0.0           0.0   \n",
      "14843             0.0                      0.0       0.0           0.0   \n",
      "14844             0.0                      0.0       0.0           0.0   \n",
      "14845             0.0                      0.0       0.0           0.0   \n",
      "\n",
      "       electricityacess  secondarycompletion  \n",
      "0                   0.0                  0.0  \n",
      "1                   0.0                  0.0  \n",
      "2                   0.0                  0.0  \n",
      "3                   0.0                  0.0  \n",
      "4                   0.0                  0.0  \n",
      "...                 ...                  ...  \n",
      "14841               0.0                  0.0  \n",
      "14842               0.0                  0.0  \n",
      "14843               0.0                  0.0  \n",
      "14844               0.0                  0.0  \n",
      "14845               0.0                  0.0  \n",
      "\n",
      "[14020 rows x 26 columns]\n"
     ]
    }
   ],
   "source": [
    "df1 = extra_data.copy()\n",
    "df = df1.iloc[np.where(df1.country == countrynames[0])]\n",
    "for i, x in enumerate(countrynames[1:]):\n",
    "    df = df.append(df1.iloc[np.where(df1.country == x)])\n",
    "    \n",
    "print(df)\n",
    "\n"
   ]
  },
  {
   "cell_type": "code",
   "execution_count": 58,
   "id": "697e859c",
   "metadata": {},
   "outputs": [
    {
     "name": "stdout",
     "output_type": "stream",
     "text": [
      "             suicides_no\n",
      "age                     \n",
      "15-24 years       136894\n",
      "25-34 years       174349\n",
      "35-54 years       451122\n",
      "5-14 years         13061\n",
      "55-74 years       390605\n",
      "75+ years         199892\n",
      "             suicides_no\n",
      "age                     \n",
      "15-24 years       550304\n",
      "25-34 years       802781\n",
      "35-54 years      1728492\n",
      "5-14 years         28871\n",
      "55-74 years      1102451\n",
      "75+ years         396473\n",
      "age\n",
      "15-24 years     550304\n",
      "25-34 years     802781\n",
      "35-54 years    1728492\n",
      "5-14 years       28871\n",
      "55-74 years    1102451\n",
      "75+ years       396473\n",
      "Name: suicides_no, dtype: int64\n"
     ]
    },
    {
     "data": {
      "text/plain": [
       "Text(0.5, 0, 'Suicides per 100K')"
      ]
     },
     "execution_count": 58,
     "metadata": {},
     "output_type": "execute_result"
    },
    {
     "data": {
      "image/png": "[encoded data removed]",
      "text/plain": [
       "<Figure size 576x432 with 1 Axes>"
      ]
     },
     "metadata": {
      "needs_background": "light"
     },
     "output_type": "display_data"
    }
   ],
   "source": [
    "col = plt.cm.Spectral(np.linspace(0, 1, 20))\n",
    "\n",
    "plt.figure(figsize=(8, 6))\n",
    "\n",
    "agedistf = pd.DataFrame(df.groupby('sex').get_group('female').groupby('age').suicides_no.sum())\n",
    "print(agedistf)\n",
    "\n",
    "agedistm = pd.DataFrame(df.groupby('sex').get_group('male').groupby('age').suicides_no.sum())\n",
    "print(agedistm)\n",
    "#-----------------------------------------------------\n",
    "print(agedistm.suicides_no)\n",
    "\n",
    "plt.bar(agedistm.index, agedistm.suicides_no, color=col[18])\n",
    "plt.bar(agedistf.index, agedistf.suicides_no, color=col[7])\n",
    "plt.legend(['male', 'female'], fontsize=16)\n",
    "plt.ylabel('Count', fontsize=14)\n",
    "plt.xlabel('Suicides per 100K', fontsize=14)"
   ]
  },
  {
   "cell_type": "code",
   "execution_count": 59,
   "id": "e32f93fe",
   "metadata": {},
   "outputs": [
    {
     "data": {
      "image/png": "[encoded data removed]",
      "text/plain": [
       "<Figure size 864x1080 with 2 Axes>"
      ]
     },
     "metadata": {
      "needs_background": "light"
     },
     "output_type": "display_data"
    }
   ],
   "source": [
    "plt.figure(figsize=(12, 15))\n",
    "\n",
    "\n",
    "plt.subplot(211)\n",
    "df.groupby(['country']).suicidesper100k.mean().nlargest(10).plot(kind='barh', color=col)\n",
    "plt.xlabel('Average Suicides/100k', size=20)\n",
    "plt.ylabel('Country', fontsize=20)\n",
    "plt.title('Top 10 countries', fontsize=30)\n",
    "\n",
    "plt.subplot(212)\n",
    "df.groupby(['country']).suicides_no.mean().nlargest(10).plot(kind='barh', color=col)\n",
    "plt.xlabel('Average Suicides_no', size=20)\n",
    "plt.ylabel('Country', fontsize=20);"
   ]
  },
  {
   "cell_type": "code",
   "execution_count": 60,
   "id": "8c225834",
   "metadata": {},
   "outputs": [
    {
     "data": {
      "text/plain": [
       "<matplotlib.legend.Legend at 0x1bee7093400>"
      ]
     },
     "execution_count": 60,
     "metadata": {},
     "output_type": "execute_result"
    },
    {
     "data": {
      "image/png": "[encoded data removed]",
      "text/plain": [
       "<Figure size 720x1152 with 3 Axes>"
      ]
     },
     "metadata": {
      "needs_background": "light"
     },
     "output_type": "display_data"
    }
   ],
   "source": [
    "import seaborn as sns\n",
    "plt.figure(figsize=(10, 16))\n",
    "\n",
    "plt.subplot(311)\n",
    "\n",
    "sns.barplot(x='sex', y='population', hue='age', data=df, palette=\"Blues\")\n",
    "plt.xticks(ha='right', fontsize=20)\n",
    "plt.ylabel('Population', fontsize=20)\n",
    "plt.xlabel('Sex', fontsize=20)\n",
    "plt.legend(fontsize=14, loc='best')\n",
    "\n",
    "plt.subplot(313)\n",
    "\n",
    "sns.barplot(x='sex', y='suicidesper100k', hue='age', data=df,palette=\"Blues\")\n",
    "plt.xticks(ha='right', fontsize=20);\n",
    "plt.ylabel('suicidesper100k',fontsize=20);\n",
    "plt.xlabel('Sex',fontsize=20);\n",
    "plt.legend(fontsize=14);\n",
    "\n",
    "plt.subplot(312)\n",
    "sns.barplot(x='sex', y='suicides_no', hue='age', data=df, palette=\"Blues\")\n",
    "plt.xticks(ha='right', fontsize=20)\n",
    "plt.ylabel('suicides incidences', fontsize=20)\n",
    "plt.xlabel('Sex', fontsize=20)\n",
    "plt.legend(fontsize=14)"
   ]
  },
  {
   "cell_type": "code",
   "execution_count": 61,
   "id": "73b0874b",
   "metadata": {},
   "outputs": [
    {
     "name": "stdout",
     "output_type": "stream",
     "text": [
      "      suicides_no\n",
      "year             \n",
      "1985       116063\n",
      "1986       120670\n",
      "1987       126842\n",
      "1988       121026\n",
      "1989       160244\n",
      "1990       193361\n",
      "1991       198020\n",
      "1992       211473\n",
      "1993       221565\n",
      "1994       232063\n",
      "1995       243544\n",
      "1996       246725\n",
      "1997       240745\n",
      "1998       249591\n",
      "1999       256119\n",
      "2000       255832\n",
      "2001       250652\n",
      "2002       256095\n",
      "2003       256079\n",
      "2004       240861\n",
      "2005       234375\n",
      "2006       233361\n",
      "2007       233408\n",
      "2008       235447\n",
      "2009       243487\n",
      "2010       238702\n",
      "2011       236484\n",
      "2012       230160\n",
      "2013       223199\n",
      "2014       222984\n",
      "2015       203640\n",
      "2016        15603\n"
     ]
    },
    {
     "data": {
      "text/plain": [
       "Text(0, 0.5, 'Total number of suicides in the world')"
      ]
     },
     "execution_count": 61,
     "metadata": {},
     "output_type": "execute_result"
    },
    {
     "data": {
      "image/png": "[encoded data removed]",
      "text/plain": [
       "<Figure size 432x360 with 1 Axes>"
      ]
     },
     "metadata": {
      "needs_background": "light"
     },
     "output_type": "display_data"
    }
   ],
   "source": [
    "year = originaldata.groupby('year').year.unique()\n",
    "\n",
    "plt.figure(figsize=(6, 5))\n",
    "\n",
    "totalpyear = pd.DataFrame(originaldata.groupby('year').suicides_no.sum())\n",
    "print(totalpyear)\n",
    "plt.plot(year.index[0:31], totalpyear[0:31], color=col[18])\n",
    "plt.xlabel('year', fontsize=14)\n",
    "plt.ylabel('Total number of suicides in the world', fontsize=14)"
   ]
  },
  {
   "cell_type": "code",
   "execution_count": 62,
   "id": "a49376be",
   "metadata": {},
   "outputs": [
    {
     "data": {
      "text/plain": [
       "Text(0, 0.5, 'count')"
      ]
     },
     "execution_count": 62,
     "metadata": {},
     "output_type": "execute_result"
    },
    {
     "data": {
      "image/png": "[encoded data removed]",
      "text/plain": [
       "<Figure size 1440x576 with 2 Axes>"
      ]
     },
     "metadata": {
      "needs_background": "light"
     },
     "output_type": "display_data"
    }
   ],
   "source": [
    "plt.figure(figsize=(20, 8))\n",
    "plt.subplot(121)\n",
    "plt.hist(df.suicidesper100k, bins=30, color=col[18])\n",
    "plt.xlabel('Suicides per 100K of population', fontsize=14)\n",
    "plt.ylabel('count', fontsize=14)\n",
    "\n",
    "plt.subplot(122)\n",
    "plt.hist(df.GDPpcapita, bins=30, color=col[7])\n",
    "plt.xlabel('GDP', fontsize=14)\n",
    "plt.ylabel('count', fontsize=14)"
   ]
  },
  {
   "cell_type": "code",
   "execution_count": 63,
   "id": "68a1c09a",
   "metadata": {},
   "outputs": [
    {
     "name": "stdout",
     "output_type": "stream",
     "text": [
      "          GDPpyear  GDPpcapita  employeecompensation  Unemployment  \\\n",
      "year                                                                 \n",
      "1985  8.841667e+10        3264              0.000000      0.000000   \n",
      "1986  1.109340e+11        4072              0.000000      0.000000   \n",
      "1987  1.111060e+11        4026              0.000000      0.000000   \n",
      "1988  1.262070e+11        4458              0.000000      0.000000   \n",
      "1989  7.663690e+10        2670              0.000000      0.000000   \n",
      "1990  1.413520e+11        4859              0.000000      0.000000   \n",
      "1991  1.897200e+11        6404              0.000000      0.000000   \n",
      "1992  2.287890e+11        7615              0.000000      0.000000   \n",
      "1993  2.367420e+11        7768              0.000000      0.000000   \n",
      "1994  2.574400e+11        8328              0.000000      0.000000   \n",
      "1995  2.580320e+11        8232             17.243447     18.799999   \n",
      "1996  2.721500e+11        8563             16.401037     17.110001   \n",
      "1997  2.928590e+11        9057             16.412140     14.820000   \n",
      "1998  2.989480e+11        9126             15.014755     12.650000   \n",
      "1999  2.835230e+11        8546             15.078509     14.050000   \n",
      "2000  2.842040e+11        8462             14.694699     15.000000   \n",
      "2001  2.686970e+11        7900             14.238719     17.320000   \n",
      "2002  9.772400e+10        2840             11.344743     19.590000   \n",
      "2003  1.275870e+11        3668             11.670367     15.360000   \n",
      "2004  1.646580e+11        4683             11.506018     13.522000   \n",
      "2005  1.987370e+11        5590                   NaN     11.506000   \n",
      "2006  2.325570e+11        6475                   NaN     10.077000   \n",
      "2007  2.875310e+11        7918                   NaN      8.470000   \n",
      "2008  3.615580e+11        9843                   NaN      7.837000   \n",
      "2009  3.329760e+11        8961                   NaN      8.645000   \n",
      "2010  4.236270e+11       11273                   NaN      7.714000   \n",
      "2011  5.301630e+11       13946                   NaN      7.179000   \n",
      "2012  5.459820e+11       14203                   NaN      7.217000   \n",
      "2013  5.520250e+11       14206                   NaN      7.100000   \n",
      "2014  5.263200e+11       13400              0.000000      0.000000   \n",
      "2015  5.947490e+11       14981              0.000000      0.000000   \n",
      "\n",
      "      Lifeexpectancy  Refugees  Selfemployed  Internetusers  Suicides  \n",
      "year                                                                   \n",
      "1985           0.000       0.0         0.000       0.000000    134.47  \n",
      "1986           0.000       0.0         0.000       0.000000    152.90  \n",
      "1987           0.000       0.0         0.000       0.000000    144.98  \n",
      "1988           0.000       0.0         0.000       0.000000    146.24  \n",
      "1989           0.000       0.0         0.000       0.000000    138.93  \n",
      "1990           0.000       0.0         0.000       0.000000    134.90  \n",
      "1991           0.000       0.0         0.000       0.000000    119.24  \n",
      "1992           0.000       0.0         0.000       0.000000    126.86  \n",
      "1993           0.000       0.0         0.000       0.000000    134.77  \n",
      "1994           0.000       0.0         0.000       0.000000    122.05  \n",
      "1995          72.651     330.0         1.409       0.086277    119.97  \n",
      "1996          72.843     217.0         1.665       0.141955    118.03  \n",
      "1997          73.029     159.0         1.541       0.280340    111.40  \n",
      "1998          73.213     142.0         1.326       0.830767    116.93  \n",
      "1999          73.396     586.0         1.355       3.284482    117.19  \n",
      "2000          73.576     609.0         1.154       7.038683    131.39  \n",
      "2001          73.755     659.0         1.092       9.780807    143.56  \n",
      "2002          73.932     771.0         1.114      10.882124    139.42  \n",
      "2003          74.107     784.0         1.657      11.913697    146.29  \n",
      "2004          74.280     796.0         1.308      16.036684    131.06  \n",
      "2005          74.451     856.0         1.026      17.720583    128.18  \n",
      "2006          74.620     894.0         0.991      20.927202    128.22  \n",
      "2007          74.787    1171.0         0.944      25.946633    118.35  \n",
      "2008          74.952    1047.0         0.719      28.112623    118.11  \n",
      "2009          75.116     608.0         0.723      34.000000    107.32  \n",
      "2010          75.278     557.0         0.784      45.000000    111.24  \n",
      "2011          75.439     518.0         0.719      51.000000    105.87  \n",
      "2012          75.598     447.0         0.550      55.800000    119.82  \n",
      "2013          75.756     388.0         0.539      59.900000    103.42  \n",
      "2014           0.000       0.0         0.000       0.000000    111.35  \n",
      "2015           0.000       0.0         0.000       0.000000    112.13  \n"
     ]
    }
   ],
   "source": [
    "features = ['country', 'year', 'GDPpyear', 'GDPpcapita', 'employeecompensation', 'Unemployment',\n",
    "            'Lifeexpectancy', 'Refugees', 'Selfemployed', 'Internetusers']\n",
    "\n",
    "total = df[features].groupby('country').get_group(countrynames[0]).groupby('year').mean()\n",
    "total['Suicides'] = df[['country', 'year', 'suicidesper100k']].groupby('country').get_group(countrynames[0]).groupby('year').sum()\n",
    "print(total)\n",
    "total['population'] = df[['country', 'year', 'population']].groupby('country').get_group(countrynames[0]).groupby('year').sum()\n",
    "\n",
    "total['country'] = countrynames[0]\n",
    "\n",
    "for i, x in enumerate(countrynames[1:]):\n",
    "    suicides = df[features].groupby('country').get_group(x).groupby('year').mean()\n",
    "    suicides['Suicides'] = df[['country', 'year', 'suicidesper100k']].groupby('country').get_group(x).groupby('year').sum()\n",
    "    total['population'] = df[['country', 'year', 'population']].groupby('country').get_group(x).groupby('year').sum()\n",
    "  \n",
    "    suicides['country'] = x\n",
    "    total = total.append(suicides)\n",
    "\n",
    "total.reset_index(inplace=True)\n",
    "sort = True"
   ]
  },
  {
   "cell_type": "code",
   "execution_count": 64,
   "id": "457af1ac",
   "metadata": {},
   "outputs": [],
   "source": [
    "totalfeatures = ['country', 'year', 'GDPpyear', 'GDPpcapita', 'employeecompensation', 'Unemployment','Lifeexpectancy', 'Refugees', 'Selfemployed', 'Internetusers', 'population']"
   ]
  },
  {
   "cell_type": "code",
   "execution_count": 65,
   "id": "07bd5886",
   "metadata": {},
   "outputs": [],
   "source": [
    "totalfeatures = ['country', 'year', 'GDPpyear', 'GDPpcapita', 'employeecompensation', 'Unemployment','Lifeexpectancy', 'Refugees', 'Selfemployed', 'Internetusers', 'population']"
   ]
  },
  {
   "cell_type": "code",
   "execution_count": 66,
   "id": "a77d1a92",
   "metadata": {},
   "outputs": [
    {
     "name": "stderr",
     "output_type": "stream",
     "text": [
      "D:\\anaconda\\lib\\site-packages\\seaborn\\distributions.py:2557: FutureWarning: `distplot` is a deprecated function and will be removed in a future version. Please adapt your code to use either `displot` (a figure-level function with similar flexibility) or `histplot` (an axes-level function for histograms).\n",
      "  warnings.warn(msg, FutureWarning)\n"
     ]
    },
    {
     "data": {
      "text/plain": [
       "Text(0.5, 0, 'GDP')"
      ]
     },
     "execution_count": 66,
     "metadata": {},
     "output_type": "execute_result"
    },
    {
     "data": {
      "image/png": "[encoded data removed]",
      "text/plain": [
       "<Figure size 1440x576 with 2 Axes>"
      ]
     },
     "metadata": {
      "needs_background": "light"
     },
     "output_type": "display_data"
    }
   ],
   "source": [
    "plt.figure(figsize=(20, 8))\n",
    "plt.subplot(121)\n",
    "sns.distplot(total.Suicides, bins=15)\n",
    "plt.xlabel('total Suicides (summed over sex and age group) per 100K of population', fontsize=14)\n",
    "\n",
    "plt.subplot(122)\n",
    "plt.hist(total.GDPpcapita, bins=30, color=col[7])\n",
    "plt.xlabel('GDP', fontsize=14)"
   ]
  },
  {
   "cell_type": "code",
   "execution_count": 67,
   "id": "c7a16922",
   "metadata": {},
   "outputs": [
    {
     "data": {
      "text/plain": [
       "Text(0.5, 0, 'year')"
      ]
     },
     "execution_count": 67,
     "metadata": {},
     "output_type": "execute_result"
    },
    {
     "data": {
      "image/png": "[encoded data removed]",
      "text/plain": [
       "<Figure size 576x360 with 1 Axes>"
      ]
     },
     "metadata": {
      "needs_background": "light"
     },
     "output_type": "display_data"
    }
   ],
   "source": [
    "plt.figure(figsize=(8, 5))\n",
    "\n",
    "suicides = df[['year', 'GDPpyear', 'Selfemployed', 'Unemployment', 'Lifeexpectancy']].groupby('year').mean()\n",
    "suicides['Suicides'] = df[['country', 'year', 'suicidesper100k']].groupby('year').sum()\n",
    "\n",
    "plt.plot(suicides.index, suicides.GDPpyear/suicides.GDPpyear.max(), color=col[1])\n",
    "plt.plot(suicides.index, suicides.Unemployment/suicides.Unemployment.max(), color=col[7])\n",
    "plt.plot(suicides.index, suicides.Lifeexpectancy/suicides.Lifeexpectancy.max(), color=col[15])\n",
    "plt.plot(suicides.index, suicides.Suicides/suicides.Suicides.max(), color=col[17])\n",
    "plt.legend(['global average GDPpyear', 'global average Unemployment', 'global average Life expectancy', 'Total suicides per 100k'], fontsize=14, loc='best')\n",
    "plt.ylabel('Normalized', fontsize=14)\n",
    "plt.xlabel('year', fontsize=14)"
   ]
  },
  {
   "cell_type": "code",
   "execution_count": 68,
   "id": "3631e924",
   "metadata": {},
   "outputs": [
    {
     "name": "stderr",
     "output_type": "stream",
     "text": [
      "<ipython-input-68-1755bcf9bb97>:5: DeprecationWarning: `np.bool` is a deprecated alias for the builtin `bool`. To silence this warning, use `bool` by itself. Doing this will not modify any behavior and is safe. If you specifically wanted the numpy scalar type, use `np.bool_` here.\n",
      "Deprecated in NumPy 1.20; for more details and guidance: https://numpy.org/devdocs/release/1.20.0-notes.html#deprecations\n",
      "  mask = np.zeros_like(corr, dtype=np.bool)\n"
     ]
    },
    {
     "data": {
      "image/png": "[encoded data removed]",
      "text/plain": [
       "<Figure size 576x432 with 2 Axes>"
      ]
     },
     "metadata": {
      "needs_background": "light"
     },
     "output_type": "display_data"
    }
   ],
   "source": [
    "corr = total.corr()\n",
    "\n",
    "# Generate a mask for the upper triangle\n",
    "\n",
    "mask = np.zeros_like(corr, dtype=np.bool)\n",
    "mask[np.triu_indices_from(mask)] = True\n",
    "\n",
    "# Set up the matplotlib figure\n",
    "f, ax = plt.subplots(figsize=(8, 6))\n",
    "\n",
    "# Generate a custom diverging colormap\n",
    "cmap = sns.diverging_palette(220, 10, as_cmap=True)\n",
    "\n",
    "# Draw the heatmap with the mask and correct aspect ratio\n",
    "sns.heatmap(corr, mask=mask, cmap=cmap, vmax=1, vmin=-1, center=0,\n",
    "            square=True, linewidths=0.2, cbar_kws={\"shrink\": 0.8});"
   ]
  },
  {
   "cell_type": "code",
   "execution_count": 69,
   "id": "22ccf05e",
   "metadata": {},
   "outputs": [],
   "source": [
    "total.Internetusers.fillna(total.Internetusers. min(), inplace=True)\n",
    "total.Refugees.fillna(8, inplace=True)\n",
    "total.employeecompensation.fillna(total.employeecompensation.mean(), inplace=True)\n",
    "total.population.fillna(total.population.mean(), inplace=True)"
   ]
  },
  {
   "cell_type": "code",
   "execution_count": 70,
   "id": "d853b877",
   "metadata": {},
   "outputs": [],
   "source": [
    "total['risk'] = total.Suicides.copy()\n",
    "\n",
    "total['risk'] = np.where(total.risk < total.Suicides.mean(), 0, 1)"
   ]
  },
  {
   "cell_type": "code",
   "execution_count": 71,
   "id": "84c20a2b",
   "metadata": {},
   "outputs": [
    {
     "name": "stderr",
     "output_type": "stream",
     "text": [
      "D:\\anaconda\\lib\\site-packages\\seaborn\\distributions.py:2557: FutureWarning: `distplot` is a deprecated function and will be removed in a future version. Please adapt your code to use either `displot` (a figure-level function with similar flexibility) or `histplot` (an axes-level function for histograms).\n",
      "  warnings.warn(msg, FutureWarning)\n",
      "D:\\anaconda\\lib\\site-packages\\seaborn\\distributions.py:2557: FutureWarning: `distplot` is a deprecated function and will be removed in a future version. Please adapt your code to use either `displot` (a figure-level function with similar flexibility) or `histplot` (an axes-level function for histograms).\n",
      "  warnings.warn(msg, FutureWarning)\n"
     ]
    },
    {
     "data": {
      "text/plain": [
       "Text(0.5, 0, 'Suicides')"
      ]
     },
     "execution_count": 71,
     "metadata": {},
     "output_type": "execute_result"
    },
    {
     "data": {
      "image/png": "[encoded data removed]",
      "text/plain": [
       "<Figure size 1152x360 with 2 Axes>"
      ]
     },
     "metadata": {
      "needs_background": "light"
     },
     "output_type": "display_data"
    }
   ],
   "source": [
    "plt.figure(figsize=(16, 5))\n",
    "plt.subplot(121)\n",
    "plt.hist(total.risk, color=col[6])\n",
    "plt.ylabel('counts', fontsize=14)\n",
    "plt.xlabel('Suicide risk', fontsize=14)\n",
    "\n",
    "plt.subplot(122)\n",
    "sns.distplot(total.Suicides[total.risk == 0], bins=10)\n",
    "sns.distplot(total.Suicides[total.risk == 1], bins=20)  \n",
    "plt.xlabel('Suicides', fontsize=14)"
   ]
  },
  {
   "cell_type": "code",
   "execution_count": 72,
   "id": "aececa4f",
   "metadata": {},
   "outputs": [
    {
     "name": "stdout",
     "output_type": "stream",
     "text": [
      "            country  year      GDPpyear  GDPpcapita  employeecompensation  \\\n",
      "0         Argentina  1985  8.841667e+10        3264              0.000000   \n",
      "1         Argentina  1986  1.109340e+11        4072              0.000000   \n",
      "2         Argentina  1987  1.111060e+11        4026              0.000000   \n",
      "3         Argentina  1988  1.262070e+11        4458              0.000000   \n",
      "4         Argentina  1989  7.663690e+10        2670              0.000000   \n",
      "...             ...   ...           ...         ...                   ...   \n",
      "1165  United States  2011  1.551790e+13       53452             10.132760   \n",
      "1166  United States  2012  1.615530e+13       55170             10.236160   \n",
      "1167  United States  2013  1.669150e+13       56520             10.048392   \n",
      "1168  United States  2014  1.742760e+13       58531              0.000000   \n",
      "1169  United States  2015  1.812070e+13       60387              0.000000   \n",
      "\n",
      "      Unemployment  Lifeexpectancy  Refugees  Selfemployed  Internetusers  \\\n",
      "0            0.000        0.000000       0.0         0.000       0.000000   \n",
      "1            0.000        0.000000       0.0         0.000       0.000000   \n",
      "2            0.000        0.000000       0.0         0.000       0.000000   \n",
      "3            0.000        0.000000       0.0         0.000       0.000000   \n",
      "4            0.000        0.000000       0.0         0.000       0.000000   \n",
      "...            ...             ...       ...           ...            ...   \n",
      "1165         8.949       78.641463    3778.0         0.076      69.729461   \n",
      "1166         8.069       78.741463    4456.0         0.077      74.700000   \n",
      "1167         7.375       78.741463    4760.0         0.070      71.400000   \n",
      "1168         0.000        0.000000       0.0         0.000       0.000000   \n",
      "1169         0.000        0.000000       0.0         0.000       0.000000   \n",
      "\n",
      "        population  \n",
      "0     2.207230e+08  \n",
      "1     2.229530e+08  \n",
      "2     2.251480e+08  \n",
      "3     2.273530e+08  \n",
      "4     2.294870e+08  \n",
      "...            ...  \n",
      "1165  2.620962e+08  \n",
      "1166  2.620962e+08  \n",
      "1167  2.620962e+08  \n",
      "1168  2.620962e+08  \n",
      "1169  2.620962e+08  \n",
      "\n",
      "[1170 rows x 11 columns]\n",
      "Index(['year', 'GDPpyear', 'GDPpcapita', 'employeecompensation',\n",
      "       'Unemployment', 'Lifeexpectancy', 'Refugees', 'Selfemployed',\n",
      "       'Internetusers', 'population'],\n",
      "      dtype='object')\n",
      "      year      GDPpyear  GDPpcapita  employeecompensation  Unemployment  \\\n",
      "0     1985  8.841667e+10        3264              0.000000         0.000   \n",
      "1     1986  1.109340e+11        4072              0.000000         0.000   \n",
      "2     1987  1.111060e+11        4026              0.000000         0.000   \n",
      "3     1988  1.262070e+11        4458              0.000000         0.000   \n",
      "4     1989  7.663690e+10        2670              0.000000         0.000   \n",
      "...    ...           ...         ...                   ...           ...   \n",
      "1165  2011  1.551790e+13       53452             10.132760         8.949   \n",
      "1166  2012  1.615530e+13       55170             10.236160         8.069   \n",
      "1167  2013  1.669150e+13       56520             10.048392         7.375   \n",
      "1168  2014  1.742760e+13       58531              0.000000         0.000   \n",
      "1169  2015  1.812070e+13       60387              0.000000         0.000   \n",
      "\n",
      "      Lifeexpectancy  Refugees  Selfemployed  Internetusers    population  \n",
      "0           0.000000       0.0         0.000       0.000000  2.207230e+08  \n",
      "1           0.000000       0.0         0.000       0.000000  2.229530e+08  \n",
      "2           0.000000       0.0         0.000       0.000000  2.251480e+08  \n",
      "3           0.000000       0.0         0.000       0.000000  2.273530e+08  \n",
      "4           0.000000       0.0         0.000       0.000000  2.294870e+08  \n",
      "...              ...       ...           ...            ...           ...  \n",
      "1165       78.641463    3778.0         0.076      69.729461  2.620962e+08  \n",
      "1166       78.741463    4456.0         0.077      74.700000  2.620962e+08  \n",
      "1167       78.741463    4760.0         0.070      71.400000  2.620962e+08  \n",
      "1168        0.000000       0.0         0.000       0.000000  2.620962e+08  \n",
      "1169        0.000000       0.0         0.000       0.000000  2.620962e+08  \n",
      "\n",
      "[1170 rows x 10 columns]\n"
     ]
    }
   ],
   "source": [
    "d=total[totalfeatures]\n",
    "print(total[totalfeatures])\n",
    "x=total[totalfeatures]\n",
    "p=x.drop('country',axis=1)\n",
    "print(p.columns)\n",
    "print(p)\n"
   ]
  },
  {
   "cell_type": "code",
   "execution_count": 73,
   "id": "7bb667ea",
   "metadata": {},
   "outputs": [],
   "source": [
    " from sklearn.preprocessing import StandardScaler\n",
    "# Preparing data for modeling\n",
    "\n",
    "X = np.asarray(p)\n",
    "y = np.asarray(total['risk'])\n",
    "\n",
    "\n",
    "# Applying standard scaler on data, since ML algorithms work with the assumption that the data is normally distributed\n",
    "\n",
    "scaler = StandardScaler()\n",
    "scaler.fit(X)\n",
    "X_scaled = scaler.transform(X)"
   ]
  },
  {
   "cell_type": "code",
   "execution_count": 74,
   "id": "5118d2ab",
   "metadata": {},
   "outputs": [
    {
     "name": "stdout",
     "output_type": "stream",
     "text": [
      "Train set: (877, 10) (877,)\n",
      "Test set: (293, 10) (293,)\n"
     ]
    }
   ],
   "source": [
    "from sklearn.model_selection import train_test_split\n",
    "# Train-test split\n",
    "\n",
    "X_train, X_test, y_train, y_test = train_test_split(X_scaled, y, test_size=0.25, random_state=4)\n",
    "\n",
    "print('Train set:', X_train.shape, y_train.shape)\n",
    "print('Test set:', X_test.shape, y_test.shape)"
   ]
  },
  {
   "cell_type": "code",
   "execution_count": 75,
   "id": "d53ba1d6",
   "metadata": {},
   "outputs": [
    {
     "name": "stdout",
     "output_type": "stream",
     "text": [
      "******************Decision Tree classifier**************\n",
      "Accuracy = 0.8225255972696246\n",
      "Train Accuracy= 0.8244013683010262\n",
      "CM\n",
      " [[161  13]\n",
      " [ 39  80]]\n",
      "classification report for decision tree\n",
      "               precision    recall  f1-score   support\n",
      "\n",
      "           0       0.81      0.93      0.86       174\n",
      "           1       0.86      0.67      0.75       119\n",
      "\n",
      "    accuracy                           0.82       293\n",
      "   macro avg       0.83      0.80      0.81       293\n",
      "weighted avg       0.83      0.82      0.82       293\n",
      "\n",
      "# of leaves 30 \n",
      " Depth 7\n",
      "                       0         1\n",
      "3             GDPpcapita   0.23956\n",
      "7               Refugees  0.199218\n",
      "2               GDPpyear  0.163387\n",
      "1                   year  0.140191\n",
      "6         Lifeexpectancy  0.136087\n",
      "5           Unemployment  0.052462\n",
      "4   employeecompensation  0.040648\n",
      "0                country  0.010607\n",
      "9          Internetusers  0.009033\n",
      "8           Selfemployed  0.008807\n",
      "10            population      None\n",
      "\n",
      "# of features=  10\n"
     ]
    }
   ],
   "source": [
    "from sklearn.tree import DecisionTreeClassifier\n",
    "from sklearn.metrics import accuracy_score\n",
    "from sklearn.metrics import confusion_matrix, classification_report\n",
    "\n",
    "\n",
    "DT = DecisionTreeClassifier(criterion=\"entropy\", max_depth=7, max_leaf_nodes=30)\n",
    "DT = DT.fit(X_train, y_train)\n",
    "ydthat = DT.predict(X_test)\n",
    "\n",
    "print('******************Decision Tree classifier**************')\n",
    "\n",
    "print('Accuracy =', DT.score(X_test, y_test))\n",
    "print('Train Accuracy=', DT.score(X_train, y_train))\n",
    "print('CM\\n', confusion_matrix(y_test, ydthat))\n",
    "print('classification report for decision tree\\n', classification_report(y_test, ydthat))\n",
    "print('# of leaves', DT.get_n_leaves(), '\\n Depth', DT.get_depth())\n",
    "\n",
    "\n",
    "DTfeat_importance = DT.feature_importances_\n",
    "DTfeat_importance = pd.DataFrame([totalfeatures, DT.feature_importances_]).T\n",
    "\n",
    "\n",
    "print(DTfeat_importance.sort_values(by=1, ascending=False))\n",
    "print('\\n# of features= ', DT.n_features_)"
   ]
  },
  {
   "cell_type": "code",
   "execution_count": 76,
   "id": "65d37fee",
   "metadata": {},
   "outputs": [
    {
     "data": {
      "text/plain": [
       "Text(0.5, 15.0, 'Predicted label')"
      ]
     },
     "execution_count": 76,
     "metadata": {},
     "output_type": "execute_result"
    },
    {
     "data": {
      "image/png": "[encoded data removed]",
      "text/plain": [
       "<Figure size 432x288 with 2 Axes>"
      ]
     },
     "metadata": {
      "needs_background": "light"
     },
     "output_type": "display_data"
    }
   ],
   "source": [
    "import seaborn as sn\n",
    "from sklearn import metrics\n",
    "cm = metrics.confusion_matrix(y_test,ydthat)\n",
    "sn.heatmap(cm, annot=True,  fmt='.2f', xticklabels = [\"Positive\", \"Negative\"] , yticklabels = [\"True\", \"False\"] )\n",
    "plt.ylabel('True label')\n",
    "plt.xlabel('Predicted label')"
   ]
  },
  {
   "cell_type": "code",
   "execution_count": 77,
   "id": "f775c03d",
   "metadata": {},
   "outputs": [
    {
     "ename": "AttributeError",
     "evalue": "'numpy.ndarray' object has no attribute 'columns'",
     "output_type": "error",
     "traceback": [
      "\u001b[1;31m---------------------------------------------------------------------------\u001b[0m",
      "\u001b[1;31mAttributeError\u001b[0m                            Traceback (most recent call last)",
      "\u001b[1;32m<ipython-input-77-432a2791ca9a>\u001b[0m in \u001b[0;36m<module>\u001b[1;34m\u001b[0m\n\u001b[0;32m      1\u001b[0m \u001b[1;32mfrom\u001b[0m \u001b[0msklearn\u001b[0m\u001b[1;33m.\u001b[0m\u001b[0mtree\u001b[0m \u001b[1;32mimport\u001b[0m \u001b[0mplot_tree\u001b[0m\u001b[1;33m,\u001b[0m \u001b[0mexport_text\u001b[0m\u001b[1;33m\u001b[0m\u001b[1;33m\u001b[0m\u001b[0m\n\u001b[0;32m      2\u001b[0m \u001b[0mplt\u001b[0m\u001b[1;33m.\u001b[0m\u001b[0mfigure\u001b[0m\u001b[1;33m(\u001b[0m\u001b[0mfigsize\u001b[0m\u001b[1;33m=\u001b[0m\u001b[1;33m(\u001b[0m\u001b[1;36m80\u001b[0m\u001b[1;33m,\u001b[0m\u001b[1;36m20\u001b[0m\u001b[1;33m)\u001b[0m\u001b[1;33m)\u001b[0m\u001b[1;33m\u001b[0m\u001b[1;33m\u001b[0m\u001b[0m\n\u001b[1;32m----> 3\u001b[1;33m \u001b[0mplot_tree\u001b[0m\u001b[1;33m(\u001b[0m\u001b[0mdf\u001b[0m\u001b[1;33m,\u001b[0m \u001b[0mfeature_names\u001b[0m\u001b[1;33m=\u001b[0m\u001b[0mX_train\u001b[0m\u001b[1;33m.\u001b[0m\u001b[0mcolumns\u001b[0m\u001b[1;33m,\u001b[0m \u001b[0mmax_depth\u001b[0m\u001b[1;33m=\u001b[0m\u001b[1;36m2\u001b[0m\u001b[1;33m,\u001b[0m \u001b[0mfilled\u001b[0m\u001b[1;33m=\u001b[0m\u001b[1;32mTrue\u001b[0m\u001b[1;33m)\u001b[0m\u001b[1;33m;\u001b[0m\u001b[1;33m\u001b[0m\u001b[1;33m\u001b[0m\u001b[0m\n\u001b[0m",
      "\u001b[1;31mAttributeError\u001b[0m: 'numpy.ndarray' object has no attribute 'columns'"
     ]
    },
    {
     "data": {
      "text/plain": [
       "<Figure size 5760x1440 with 0 Axes>"
      ]
     },
     "metadata": {},
     "output_type": "display_data"
    }
   ],
   "source": [
    "from sklearn.tree import plot_tree, export_text\n",
    "plt.figure(figsize=(80,20))\n",
    "plot_tree(df, feature_names=X_train.columns, max_depth=2, filled=True);"
   ]
  },
  {
   "cell_type": "code",
   "execution_count": 78,
   "id": "66069401",
   "metadata": {},
   "outputs": [
    {
     "data": {
      "text/plain": [
       "array([[-9.20374030e-01, -4.00915936e-01, -9.27669072e-01, ...,\n",
       "        -4.59389295e-01, -8.01555852e-01, -1.00993724e+00],\n",
       "       [ 1.27938026e+00, -3.38612240e-01, -6.68489916e-01, ...,\n",
       "         2.27026274e+00,  7.29449019e-01,  1.29297030e+00],\n",
       "       [-1.49925674e+00,  2.64523178e-02, -2.92475757e-01, ...,\n",
       "        -4.59389295e-01, -8.01555852e-01, -1.46178145e+00],\n",
       "       ...,\n",
       "       [-2.25714779e-01,  3.33971842e-01,  2.68208079e-01, ...,\n",
       "        -1.19949530e-01, -4.97046090e-01, -3.51212694e-01],\n",
       "       [ 1.04782718e+00,  6.98637733e-01, -5.05707400e-01, ...,\n",
       "         2.55610397e-01,  5.54925312e-01,  1.08310658e+00],\n",
       "       [-1.03615057e+00,  2.90349115e+00,  3.01426889e-01, ...,\n",
       "        -4.59389295e-01, -8.01555852e-01,  2.50779972e-15]])"
      ]
     },
     "execution_count": 78,
     "metadata": {},
     "output_type": "execute_result"
    }
   ],
   "source": [
    "X_train"
   ]
  },
  {
   "cell_type": "code",
   "execution_count": 79,
   "id": "11a5bd47",
   "metadata": {},
   "outputs": [
    {
     "data": {
      "text/plain": [
       "Index(['country', 'year', 'sex', 'age', 'suicides_no', 'population',\n",
       "       'suicidesper100k', 'country-year', 'yearlyHDI', 'GDPpyear',\n",
       "       'GDPpcapita', 'generation'],\n",
       "      dtype='object')"
      ]
     },
     "execution_count": 79,
     "metadata": {},
     "output_type": "execute_result"
    }
   ],
   "source": [
    "originaldata.columns"
   ]
  },
  {
   "cell_type": "code",
   "execution_count": 80,
   "id": "f45b241a",
   "metadata": {},
   "outputs": [
    {
     "ename": "TypeError",
     "evalue": "             country  year     sex          age  suicides_no  population  \\\n0          Argentina  1985    male    75+ years          202      363000   \n1          Argentina  1985    male  55-74 years          485     1997000   \n2          Argentina  1985    male  35-54 years          414     3346300   \n3          Argentina  1985  female  55-74 years          210     2304000   \n4          Argentina  1985    male  25-34 years          177     2234200   \n...              ...   ...     ...          ...          ...         ...   \n14841  United States  2015  female  25-34 years         1444    21555712   \n14842  United States  2015  female  15-24 years         1132    21633813   \n14843  United States  2015  female    75+ years          540    11778666   \n14844  United States  2015    male   5-14 years          255    21273987   \n14845  United States  2015  female   5-14 years          158    20342901   \n\n       suicidesper100k       country-year  yearlyHDI      GDPpyear  ...  \\\n0                55.65      Argentina1985      0.694  8.841667e+10  ...   \n1                24.29      Argentina1985      0.694  8.841667e+10  ...   \n2                12.37      Argentina1985      0.694  8.841667e+10  ...   \n3                 9.11      Argentina1985      0.694  8.841667e+10  ...   \n4                 7.92      Argentina1985      0.694  8.841667e+10  ...   \n...                ...                ...        ...           ...  ...   \n14841             6.70  United States2015        NaN  1.812070e+13  ...   \n14842             5.23  United States2015        NaN  1.812070e+13  ...   \n14843             4.58  United States2015        NaN  1.812070e+13  ...   \n14844             1.20  United States2015        NaN  1.812070e+13  ...   \n14845             0.78  United States2015        NaN  1.812070e+13  ...   \n\n       Unemployment Physiciansp1000  Legalrights  Laborforcetotal  \\\n0               0.0             0.0          0.0                0   \n1               0.0             0.0          0.0                0   \n2               0.0             0.0          0.0                0   \n3               0.0             0.0          0.0                0   \n4               0.0             0.0          0.0                0   \n...             ...             ...          ...              ...   \n14841           0.0             0.0          0.0                0   \n14842           0.0             0.0          0.0                0   \n14843           0.0             0.0          0.0                0   \n14844           0.0             0.0          0.0                0   \n14845           0.0             0.0          0.0                0   \n\n       Lifeexpectancy  Mobilesubscriptionsp100  Refugees  Selfemployed  \\\n0                 0.0                      0.0       0.0           0.0   \n1                 0.0                      0.0       0.0           0.0   \n2                 0.0                      0.0       0.0           0.0   \n3                 0.0                      0.0       0.0           0.0   \n4                 0.0                      0.0       0.0           0.0   \n...               ...                      ...       ...           ...   \n14841             0.0                      0.0       0.0           0.0   \n14842             0.0                      0.0       0.0           0.0   \n14843             0.0                      0.0       0.0           0.0   \n14844             0.0                      0.0       0.0           0.0   \n14845             0.0                      0.0       0.0           0.0   \n\n       electricityacess  secondarycompletion  \n0                   0.0                  0.0  \n1                   0.0                  0.0  \n2                   0.0                  0.0  \n3                   0.0                  0.0  \n4                   0.0                  0.0  \n...                 ...                  ...  \n14841               0.0                  0.0  \n14842               0.0                  0.0  \n14843               0.0                  0.0  \n14844               0.0                  0.0  \n14845               0.0                  0.0  \n\n[14020 rows x 26 columns] is not an estimator instance.",
     "output_type": "error",
     "traceback": [
      "\u001b[1;31m---------------------------------------------------------------------------\u001b[0m",
      "\u001b[1;31mTypeError\u001b[0m                                 Traceback (most recent call last)",
      "\u001b[1;32m<ipython-input-80-0ba9c33a25da>\u001b[0m in \u001b[0;36m<module>\u001b[1;34m\u001b[0m\n\u001b[1;32m----> 1\u001b[1;33m plot_tree( df,\n\u001b[0m\u001b[0;32m      2\u001b[0m     \u001b[0mmax_depth\u001b[0m\u001b[1;33m=\u001b[0m\u001b[1;36m2\u001b[0m\u001b[1;33m,\u001b[0m\u001b[1;33m\u001b[0m\u001b[1;33m\u001b[0m\u001b[0m\n\u001b[0;32m      3\u001b[0m     \u001b[0mfeature_names\u001b[0m\u001b[1;33m=\u001b[0m\u001b[1;32mNone\u001b[0m\u001b[1;33m,\u001b[0m\u001b[1;33m\u001b[0m\u001b[1;33m\u001b[0m\u001b[0m\n\u001b[0;32m      4\u001b[0m     class_names=None)\n",
      "\u001b[1;32mD:\\anaconda\\lib\\site-packages\\sklearn\\utils\\validation.py\u001b[0m in \u001b[0;36minner_f\u001b[1;34m(*args, **kwargs)\u001b[0m\n\u001b[0;32m     61\u001b[0m             \u001b[0mextra_args\u001b[0m \u001b[1;33m=\u001b[0m \u001b[0mlen\u001b[0m\u001b[1;33m(\u001b[0m\u001b[0margs\u001b[0m\u001b[1;33m)\u001b[0m \u001b[1;33m-\u001b[0m \u001b[0mlen\u001b[0m\u001b[1;33m(\u001b[0m\u001b[0mall_args\u001b[0m\u001b[1;33m)\u001b[0m\u001b[1;33m\u001b[0m\u001b[1;33m\u001b[0m\u001b[0m\n\u001b[0;32m     62\u001b[0m             \u001b[1;32mif\u001b[0m \u001b[0mextra_args\u001b[0m \u001b[1;33m<=\u001b[0m \u001b[1;36m0\u001b[0m\u001b[1;33m:\u001b[0m\u001b[1;33m\u001b[0m\u001b[1;33m\u001b[0m\u001b[0m\n\u001b[1;32m---> 63\u001b[1;33m                 \u001b[1;32mreturn\u001b[0m \u001b[0mf\u001b[0m\u001b[1;33m(\u001b[0m\u001b[1;33m*\u001b[0m\u001b[0margs\u001b[0m\u001b[1;33m,\u001b[0m \u001b[1;33m**\u001b[0m\u001b[0mkwargs\u001b[0m\u001b[1;33m)\u001b[0m\u001b[1;33m\u001b[0m\u001b[1;33m\u001b[0m\u001b[0m\n\u001b[0m\u001b[0;32m     64\u001b[0m \u001b[1;33m\u001b[0m\u001b[0m\n\u001b[0;32m     65\u001b[0m             \u001b[1;31m# extra_args > 0\u001b[0m\u001b[1;33m\u001b[0m\u001b[1;33m\u001b[0m\u001b[1;33m\u001b[0m\u001b[0m\n",
      "\u001b[1;32mD:\\anaconda\\lib\\site-packages\\sklearn\\tree\\_export.py\u001b[0m in \u001b[0;36mplot_tree\u001b[1;34m(decision_tree, max_depth, feature_names, class_names, label, filled, impurity, node_ids, proportion, rotate, rounded, precision, ax, fontsize)\u001b[0m\n\u001b[0;32m    179\u001b[0m     \"\"\"\n\u001b[0;32m    180\u001b[0m \u001b[1;33m\u001b[0m\u001b[0m\n\u001b[1;32m--> 181\u001b[1;33m     \u001b[0mcheck_is_fitted\u001b[0m\u001b[1;33m(\u001b[0m\u001b[0mdecision_tree\u001b[0m\u001b[1;33m)\u001b[0m\u001b[1;33m\u001b[0m\u001b[1;33m\u001b[0m\u001b[0m\n\u001b[0m\u001b[0;32m    182\u001b[0m \u001b[1;33m\u001b[0m\u001b[0m\n\u001b[0;32m    183\u001b[0m     \u001b[1;32mif\u001b[0m \u001b[0mrotate\u001b[0m \u001b[1;33m!=\u001b[0m \u001b[1;34m'deprecated'\u001b[0m\u001b[1;33m:\u001b[0m\u001b[1;33m\u001b[0m\u001b[1;33m\u001b[0m\u001b[0m\n",
      "\u001b[1;32mD:\\anaconda\\lib\\site-packages\\sklearn\\utils\\validation.py\u001b[0m in \u001b[0;36minner_f\u001b[1;34m(*args, **kwargs)\u001b[0m\n\u001b[0;32m     61\u001b[0m             \u001b[0mextra_args\u001b[0m \u001b[1;33m=\u001b[0m \u001b[0mlen\u001b[0m\u001b[1;33m(\u001b[0m\u001b[0margs\u001b[0m\u001b[1;33m)\u001b[0m \u001b[1;33m-\u001b[0m \u001b[0mlen\u001b[0m\u001b[1;33m(\u001b[0m\u001b[0mall_args\u001b[0m\u001b[1;33m)\u001b[0m\u001b[1;33m\u001b[0m\u001b[1;33m\u001b[0m\u001b[0m\n\u001b[0;32m     62\u001b[0m             \u001b[1;32mif\u001b[0m \u001b[0mextra_args\u001b[0m \u001b[1;33m<=\u001b[0m \u001b[1;36m0\u001b[0m\u001b[1;33m:\u001b[0m\u001b[1;33m\u001b[0m\u001b[1;33m\u001b[0m\u001b[0m\n\u001b[1;32m---> 63\u001b[1;33m                 \u001b[1;32mreturn\u001b[0m \u001b[0mf\u001b[0m\u001b[1;33m(\u001b[0m\u001b[1;33m*\u001b[0m\u001b[0margs\u001b[0m\u001b[1;33m,\u001b[0m \u001b[1;33m**\u001b[0m\u001b[0mkwargs\u001b[0m\u001b[1;33m)\u001b[0m\u001b[1;33m\u001b[0m\u001b[1;33m\u001b[0m\u001b[0m\n\u001b[0m\u001b[0;32m     64\u001b[0m \u001b[1;33m\u001b[0m\u001b[0m\n\u001b[0;32m     65\u001b[0m             \u001b[1;31m# extra_args > 0\u001b[0m\u001b[1;33m\u001b[0m\u001b[1;33m\u001b[0m\u001b[1;33m\u001b[0m\u001b[0m\n",
      "\u001b[1;32mD:\\anaconda\\lib\\site-packages\\sklearn\\utils\\validation.py\u001b[0m in \u001b[0;36mcheck_is_fitted\u001b[1;34m(estimator, attributes, msg, all_or_any)\u001b[0m\n\u001b[0;32m   1085\u001b[0m \u001b[1;33m\u001b[0m\u001b[0m\n\u001b[0;32m   1086\u001b[0m     \u001b[1;32mif\u001b[0m \u001b[1;32mnot\u001b[0m \u001b[0mhasattr\u001b[0m\u001b[1;33m(\u001b[0m\u001b[0mestimator\u001b[0m\u001b[1;33m,\u001b[0m \u001b[1;34m'fit'\u001b[0m\u001b[1;33m)\u001b[0m\u001b[1;33m:\u001b[0m\u001b[1;33m\u001b[0m\u001b[1;33m\u001b[0m\u001b[0m\n\u001b[1;32m-> 1087\u001b[1;33m         \u001b[1;32mraise\u001b[0m \u001b[0mTypeError\u001b[0m\u001b[1;33m(\u001b[0m\u001b[1;34m\"%s is not an estimator instance.\"\u001b[0m \u001b[1;33m%\u001b[0m \u001b[1;33m(\u001b[0m\u001b[0mestimator\u001b[0m\u001b[1;33m)\u001b[0m\u001b[1;33m)\u001b[0m\u001b[1;33m\u001b[0m\u001b[1;33m\u001b[0m\u001b[0m\n\u001b[0m\u001b[0;32m   1088\u001b[0m \u001b[1;33m\u001b[0m\u001b[0m\n\u001b[0;32m   1089\u001b[0m     \u001b[1;32mif\u001b[0m \u001b[0mattributes\u001b[0m \u001b[1;32mis\u001b[0m \u001b[1;32mnot\u001b[0m \u001b[1;32mNone\u001b[0m\u001b[1;33m:\u001b[0m\u001b[1;33m\u001b[0m\u001b[1;33m\u001b[0m\u001b[0m\n",
      "\u001b[1;31mTypeError\u001b[0m:              country  year     sex          age  suicides_no  population  \\\n0          Argentina  1985    male    75+ years          202      363000   \n1          Argentina  1985    male  55-74 years          485     1997000   \n2          Argentina  1985    male  35-54 years          414     3346300   \n3          Argentina  1985  female  55-74 years          210     2304000   \n4          Argentina  1985    male  25-34 years          177     2234200   \n...              ...   ...     ...          ...          ...         ...   \n14841  United States  2015  female  25-34 years         1444    21555712   \n14842  United States  2015  female  15-24 years         1132    21633813   \n14843  United States  2015  female    75+ years          540    11778666   \n14844  United States  2015    male   5-14 years          255    21273987   \n14845  United States  2015  female   5-14 years          158    20342901   \n\n       suicidesper100k       country-year  yearlyHDI      GDPpyear  ...  \\\n0                55.65      Argentina1985      0.694  8.841667e+10  ...   \n1                24.29      Argentina1985      0.694  8.841667e+10  ...   \n2                12.37      Argentina1985      0.694  8.841667e+10  ...   \n3                 9.11      Argentina1985      0.694  8.841667e+10  ...   \n4                 7.92      Argentina1985      0.694  8.841667e+10  ...   \n...                ...                ...        ...           ...  ...   \n14841             6.70  United States2015        NaN  1.812070e+13  ...   \n14842             5.23  United States2015        NaN  1.812070e+13  ...   \n14843             4.58  United States2015        NaN  1.812070e+13  ...   \n14844             1.20  United States2015        NaN  1.812070e+13  ...   \n14845             0.78  United States2015        NaN  1.812070e+13  ...   \n\n       Unemployment Physiciansp1000  Legalrights  Laborforcetotal  \\\n0               0.0             0.0          0.0                0   \n1               0.0             0.0          0.0                0   \n2               0.0             0.0          0.0                0   \n3               0.0             0.0          0.0                0   \n4               0.0             0.0          0.0                0   \n...             ...             ...          ...              ...   \n14841           0.0             0.0          0.0                0   \n14842           0.0             0.0          0.0                0   \n14843           0.0             0.0          0.0                0   \n14844           0.0             0.0          0.0                0   \n14845           0.0             0.0          0.0                0   \n\n       Lifeexpectancy  Mobilesubscriptionsp100  Refugees  Selfemployed  \\\n0                 0.0                      0.0       0.0           0.0   \n1                 0.0                      0.0       0.0           0.0   \n2                 0.0                      0.0       0.0           0.0   \n3                 0.0                      0.0       0.0           0.0   \n4                 0.0                      0.0       0.0           0.0   \n...               ...                      ...       ...           ...   \n14841             0.0                      0.0       0.0           0.0   \n14842             0.0                      0.0       0.0           0.0   \n14843             0.0                      0.0       0.0           0.0   \n14844             0.0                      0.0       0.0           0.0   \n14845             0.0                      0.0       0.0           0.0   \n\n       electricityacess  secondarycompletion  \n0                   0.0                  0.0  \n1                   0.0                  0.0  \n2                   0.0                  0.0  \n3                   0.0                  0.0  \n4                   0.0                  0.0  \n...                 ...                  ...  \n14841               0.0                  0.0  \n14842               0.0                  0.0  \n14843               0.0                  0.0  \n14844               0.0                  0.0  \n14845               0.0                  0.0  \n\n[14020 rows x 26 columns] is not an estimator instance."
     ]
    }
   ],
   "source": [
    "plot_tree( df,\n",
    "    max_depth=2,\n",
    "    feature_names=None,\n",
    "    class_names=None)"
   ]
  },
  {
   "cell_type": "code",
   "execution_count": null,
   "id": "48ccb56d",
   "metadata": {},
   "outputs": [],
   "source": [
    "from matplotlib import pyplot as plt\n",
    "from sklearn import datasets\n",
    "from sklearn.tree import DecisionTreeClassifier \n",
    "from sklearn import tree"
   ]
  },
  {
   "cell_type": "code",
   "execution_count": null,
   "id": "269da42c",
   "metadata": {},
   "outputs": [],
   "source": [
    "print(X_scaled)"
   ]
  },
  {
   "cell_type": "code",
   "execution_count": 34,
   "id": "a47c10f0",
   "metadata": {},
   "outputs": [
    {
     "ename": "AttributeError",
     "evalue": "'numpy.ndarray' object has no attribute 'columns'",
     "output_type": "error",
     "traceback": [
      "\u001b[1;31m---------------------------------------------------------------------------\u001b[0m",
      "\u001b[1;31mAttributeError\u001b[0m                            Traceback (most recent call last)",
      "\u001b[1;32m<ipython-input-34-c9face1f1569>\u001b[0m in \u001b[0;36m<module>\u001b[1;34m\u001b[0m\n\u001b[0;32m      1\u001b[0m \u001b[0mplt\u001b[0m\u001b[1;33m.\u001b[0m\u001b[0mfigure\u001b[0m\u001b[1;33m(\u001b[0m\u001b[0mfigsize\u001b[0m\u001b[1;33m=\u001b[0m\u001b[1;33m(\u001b[0m\u001b[1;36m80\u001b[0m\u001b[1;33m,\u001b[0m\u001b[1;36m20\u001b[0m\u001b[1;33m)\u001b[0m\u001b[1;33m)\u001b[0m\u001b[1;33m\u001b[0m\u001b[1;33m\u001b[0m\u001b[0m\n\u001b[1;32m----> 2\u001b[1;33m \u001b[0mplot_tree\u001b[0m\u001b[1;33m(\u001b[0m\u001b[0mtotal\u001b[0m\u001b[1;33m,\u001b[0m \u001b[0mfeature_names\u001b[0m\u001b[1;33m=\u001b[0m\u001b[0mX_scaled\u001b[0m\u001b[1;33m.\u001b[0m\u001b[0mcolumns\u001b[0m\u001b[1;33m,\u001b[0m \u001b[0mmax_depth\u001b[0m\u001b[1;33m=\u001b[0m\u001b[1;36m2\u001b[0m\u001b[1;33m,\u001b[0m \u001b[0mfilled\u001b[0m\u001b[1;33m=\u001b[0m\u001b[1;32mTrue\u001b[0m\u001b[1;33m)\u001b[0m\u001b[1;33m;\u001b[0m\u001b[1;33m\u001b[0m\u001b[1;33m\u001b[0m\u001b[0m\n\u001b[0m",
      "\u001b[1;31mAttributeError\u001b[0m: 'numpy.ndarray' object has no attribute 'columns'"
     ]
    },
    {
     "data": {
      "text/plain": [
       "<Figure size 5760x1440 with 0 Axes>"
      ]
     },
     "metadata": {},
     "output_type": "display_data"
    }
   ],
   "source": [
    "plt.figure(figsize=(80,20))\n",
    "plot_tree(total, feature_names=X_scaled.columns, max_depth=2, filled=True);"
   ]
  },
  {
   "cell_type": "code",
   "execution_count": 35,
   "id": "545a51da",
   "metadata": {
    "scrolled": true
   },
   "outputs": [
    {
     "data": {
      "text/plain": [
       "(877, 10)"
      ]
     },
     "execution_count": 35,
     "metadata": {},
     "output_type": "execute_result"
    }
   ],
   "source": [
    "X_train.shape"
   ]
  },
  {
   "cell_type": "code",
   "execution_count": 36,
   "id": "f61a5773",
   "metadata": {},
   "outputs": [
    {
     "data": {
      "text/plain": [
       "(1170, 11)"
      ]
     },
     "execution_count": 36,
     "metadata": {},
     "output_type": "execute_result"
    }
   ],
   "source": [
    "x.shape"
   ]
  },
  {
   "cell_type": "code",
   "execution_count": 37,
   "id": "1e2d59b9",
   "metadata": {},
   "outputs": [
    {
     "ename": "ValueError",
     "evalue": "feature_names must contain 10 elements, got 11",
     "output_type": "error",
     "traceback": [
      "\u001b[1;31m---------------------------------------------------------------------------\u001b[0m",
      "\u001b[1;31mValueError\u001b[0m                                Traceback (most recent call last)",
      "\u001b[1;32m<ipython-input-37-8d47c63bbdd9>\u001b[0m in \u001b[0;36m<module>\u001b[1;34m\u001b[0m\n\u001b[1;32m----> 1\u001b[1;33m \u001b[0mprint\u001b[0m\u001b[1;33m(\u001b[0m\u001b[0mexport_text\u001b[0m\u001b[1;33m(\u001b[0m\u001b[0mDT\u001b[0m\u001b[1;33m,\u001b[0m \u001b[0mfeature_names\u001b[0m\u001b[1;33m=\u001b[0m\u001b[0mlist\u001b[0m\u001b[1;33m(\u001b[0m\u001b[0mx\u001b[0m\u001b[1;33m.\u001b[0m\u001b[0mcolumns\u001b[0m\u001b[1;33m)\u001b[0m\u001b[1;33m)\u001b[0m\u001b[1;33m)\u001b[0m\u001b[1;33m\u001b[0m\u001b[1;33m\u001b[0m\u001b[0m\n\u001b[0m",
      "\u001b[1;32mD:\\anaconda\\lib\\site-packages\\sklearn\\utils\\validation.py\u001b[0m in \u001b[0;36minner_f\u001b[1;34m(*args, **kwargs)\u001b[0m\n\u001b[0;32m     61\u001b[0m             \u001b[0mextra_args\u001b[0m \u001b[1;33m=\u001b[0m \u001b[0mlen\u001b[0m\u001b[1;33m(\u001b[0m\u001b[0margs\u001b[0m\u001b[1;33m)\u001b[0m \u001b[1;33m-\u001b[0m \u001b[0mlen\u001b[0m\u001b[1;33m(\u001b[0m\u001b[0mall_args\u001b[0m\u001b[1;33m)\u001b[0m\u001b[1;33m\u001b[0m\u001b[1;33m\u001b[0m\u001b[0m\n\u001b[0;32m     62\u001b[0m             \u001b[1;32mif\u001b[0m \u001b[0mextra_args\u001b[0m \u001b[1;33m<=\u001b[0m \u001b[1;36m0\u001b[0m\u001b[1;33m:\u001b[0m\u001b[1;33m\u001b[0m\u001b[1;33m\u001b[0m\u001b[0m\n\u001b[1;32m---> 63\u001b[1;33m                 \u001b[1;32mreturn\u001b[0m \u001b[0mf\u001b[0m\u001b[1;33m(\u001b[0m\u001b[1;33m*\u001b[0m\u001b[0margs\u001b[0m\u001b[1;33m,\u001b[0m \u001b[1;33m**\u001b[0m\u001b[0mkwargs\u001b[0m\u001b[1;33m)\u001b[0m\u001b[1;33m\u001b[0m\u001b[1;33m\u001b[0m\u001b[0m\n\u001b[0m\u001b[0;32m     64\u001b[0m \u001b[1;33m\u001b[0m\u001b[0m\n\u001b[0;32m     65\u001b[0m             \u001b[1;31m# extra_args > 0\u001b[0m\u001b[1;33m\u001b[0m\u001b[1;33m\u001b[0m\u001b[1;33m\u001b[0m\u001b[0m\n",
      "\u001b[1;32mD:\\anaconda\\lib\\site-packages\\sklearn\\tree\\_export.py\u001b[0m in \u001b[0;36mexport_text\u001b[1;34m(decision_tree, feature_names, max_depth, spacing, decimals, show_weights)\u001b[0m\n\u001b[0;32m    887\u001b[0m     if (feature_names is not None and\n\u001b[0;32m    888\u001b[0m             len(feature_names) != tree_.n_features):\n\u001b[1;32m--> 889\u001b[1;33m         raise ValueError(\"feature_names must contain \"\n\u001b[0m\u001b[0;32m    890\u001b[0m                          \"%d elements, got %d\" % (tree_.n_features,\n\u001b[0;32m    891\u001b[0m                                                   len(feature_names)))\n",
      "\u001b[1;31mValueError\u001b[0m: feature_names must contain 10 elements, got 11"
     ]
    }
   ],
   "source": [
    "print(export_text(DT, feature_names=list(x.columns)))"
   ]
  },
  {
   "cell_type": "code",
   "execution_count": 38,
   "id": "0ded87d9",
   "metadata": {},
   "outputs": [
    {
     "ename": "AttributeError",
     "evalue": "'DataFrame' object has no attribute 'feature_names'",
     "output_type": "error",
     "traceback": [
      "\u001b[1;31m---------------------------------------------------------------------------\u001b[0m",
      "\u001b[1;31mAttributeError\u001b[0m                            Traceback (most recent call last)",
      "\u001b[1;32m<ipython-input-38-a63d7d8b1a5f>\u001b[0m in \u001b[0;36m<module>\u001b[1;34m\u001b[0m\n\u001b[1;32m----> 1\u001b[1;33m \u001b[0mtotal\u001b[0m\u001b[1;33m.\u001b[0m\u001b[0mfeature_names\u001b[0m\u001b[1;33m\u001b[0m\u001b[1;33m\u001b[0m\u001b[0m\n\u001b[0m",
      "\u001b[1;32mD:\\anaconda\\lib\\site-packages\\pandas\\core\\generic.py\u001b[0m in \u001b[0;36m__getattr__\u001b[1;34m(self, name)\u001b[0m\n\u001b[0;32m   5463\u001b[0m             \u001b[1;32mif\u001b[0m \u001b[0mself\u001b[0m\u001b[1;33m.\u001b[0m\u001b[0m_info_axis\u001b[0m\u001b[1;33m.\u001b[0m\u001b[0m_can_hold_identifiers_and_holds_name\u001b[0m\u001b[1;33m(\u001b[0m\u001b[0mname\u001b[0m\u001b[1;33m)\u001b[0m\u001b[1;33m:\u001b[0m\u001b[1;33m\u001b[0m\u001b[1;33m\u001b[0m\u001b[0m\n\u001b[0;32m   5464\u001b[0m                 \u001b[1;32mreturn\u001b[0m \u001b[0mself\u001b[0m\u001b[1;33m[\u001b[0m\u001b[0mname\u001b[0m\u001b[1;33m]\u001b[0m\u001b[1;33m\u001b[0m\u001b[1;33m\u001b[0m\u001b[0m\n\u001b[1;32m-> 5465\u001b[1;33m             \u001b[1;32mreturn\u001b[0m \u001b[0mobject\u001b[0m\u001b[1;33m.\u001b[0m\u001b[0m__getattribute__\u001b[0m\u001b[1;33m(\u001b[0m\u001b[0mself\u001b[0m\u001b[1;33m,\u001b[0m \u001b[0mname\u001b[0m\u001b[1;33m)\u001b[0m\u001b[1;33m\u001b[0m\u001b[1;33m\u001b[0m\u001b[0m\n\u001b[0m\u001b[0;32m   5466\u001b[0m \u001b[1;33m\u001b[0m\u001b[0m\n\u001b[0;32m   5467\u001b[0m     \u001b[1;32mdef\u001b[0m \u001b[0m__setattr__\u001b[0m\u001b[1;33m(\u001b[0m\u001b[0mself\u001b[0m\u001b[1;33m,\u001b[0m \u001b[0mname\u001b[0m\u001b[1;33m:\u001b[0m \u001b[0mstr\u001b[0m\u001b[1;33m,\u001b[0m \u001b[0mvalue\u001b[0m\u001b[1;33m)\u001b[0m \u001b[1;33m->\u001b[0m \u001b[1;32mNone\u001b[0m\u001b[1;33m:\u001b[0m\u001b[1;33m\u001b[0m\u001b[1;33m\u001b[0m\u001b[0m\n",
      "\u001b[1;31mAttributeError\u001b[0m: 'DataFrame' object has no attribute 'feature_names'"
     ]
    }
   ],
   "source": [
    "total.feature_names"
   ]
  },
  {
   "cell_type": "code",
   "execution_count": 39,
   "id": "b3f6906d",
   "metadata": {},
   "outputs": [
    {
     "data": {
      "text/plain": [
       "array([[-1.84658636e+00, -3.80998415e-01, -9.66062152e-01, ...,\n",
       "        -4.59389295e-01, -8.01555852e-01, -1.74073139e+00],\n",
       "       [-1.73080982e+00, -3.69533638e-01, -9.24254055e-01, ...,\n",
       "        -4.59389295e-01, -8.01555852e-01, -1.64690660e+00],\n",
       "       [-1.61503328e+00, -3.69446064e-01, -9.26634218e-01, ...,\n",
       "        -4.59389295e-01, -8.01555852e-01, -1.55455440e+00],\n",
       "       ...,\n",
       "       [ 1.39515681e+00,  8.07251889e+00,  1.78954678e+00, ...,\n",
       "        -4.43684878e-01,  1.58104575e+00,  2.50779972e-15],\n",
       "       [ 1.51093335e+00,  8.44730675e+00,  1.89360134e+00, ...,\n",
       "        -4.59389295e-01, -8.01555852e-01,  2.50779972e-15],\n",
       "       [ 1.62670989e+00,  8.80020101e+00,  1.98963578e+00, ...,\n",
       "        -4.59389295e-01, -8.01555852e-01,  2.50779972e-15]])"
      ]
     },
     "execution_count": 39,
     "metadata": {},
     "output_type": "execute_result"
    }
   ],
   "source": [
    "X_scaled"
   ]
  },
  {
   "cell_type": "code",
   "execution_count": 40,
   "id": "7f49f9be",
   "metadata": {},
   "outputs": [],
   "source": [
    "s=total['risk']"
   ]
  },
  {
   "cell_type": "code",
   "execution_count": 41,
   "id": "b60064b2",
   "metadata": {},
   "outputs": [
    {
     "ename": "NameError",
     "evalue": "name 'tree' is not defined",
     "output_type": "error",
     "traceback": [
      "\u001b[1;31m---------------------------------------------------------------------------\u001b[0m",
      "\u001b[1;31mNameError\u001b[0m                                 Traceback (most recent call last)",
      "\u001b[1;32m<ipython-input-41-4e069d97f8f3>\u001b[0m in \u001b[0;36m<module>\u001b[1;34m\u001b[0m\n\u001b[0;32m      1\u001b[0m \u001b[0mfig\u001b[0m \u001b[1;33m=\u001b[0m \u001b[0mplt\u001b[0m\u001b[1;33m.\u001b[0m\u001b[0mfigure\u001b[0m\u001b[1;33m(\u001b[0m\u001b[0mfigsize\u001b[0m\u001b[1;33m=\u001b[0m\u001b[1;33m(\u001b[0m\u001b[1;36m25\u001b[0m\u001b[1;33m,\u001b[0m\u001b[1;36m20\u001b[0m\u001b[1;33m)\u001b[0m\u001b[1;33m)\u001b[0m\u001b[1;33m\u001b[0m\u001b[1;33m\u001b[0m\u001b[0m\n\u001b[1;32m----> 2\u001b[1;33m _ = tree.plot_tree(DT, \n\u001b[0m\u001b[0;32m      3\u001b[0m                    \u001b[0mfeature_names\u001b[0m\u001b[1;33m=\u001b[0m\u001b[0mp\u001b[0m\u001b[1;33m.\u001b[0m\u001b[0mcolumns\u001b[0m\u001b[1;33m,\u001b[0m\u001b[1;33m\u001b[0m\u001b[1;33m\u001b[0m\u001b[0m\n\u001b[0;32m      4\u001b[0m                    \u001b[0mclass_names\u001b[0m\u001b[1;33m=\u001b[0m\u001b[0ms\u001b[0m\u001b[1;33m,\u001b[0m\u001b[1;33m\u001b[0m\u001b[1;33m\u001b[0m\u001b[0m\n\u001b[0;32m      5\u001b[0m                    filled=True)\n",
      "\u001b[1;31mNameError\u001b[0m: name 'tree' is not defined"
     ]
    },
    {
     "data": {
      "text/plain": [
       "<Figure size 1800x1440 with 0 Axes>"
      ]
     },
     "metadata": {},
     "output_type": "display_data"
    }
   ],
   "source": [
    "fig = plt.figure(figsize=(25,20))\n",
    "_ = tree.plot_tree(DT, \n",
    "                   feature_names=p.columns,  \n",
    "                   class_names=s,\n",
    "                   filled=True)"
   ]
  },
  {
   "cell_type": "code",
   "execution_count": 42,
   "id": "af61729d",
   "metadata": {},
   "outputs": [
    {
     "data": {
      "text/plain": [
       "0       0\n",
       "1       0\n",
       "2       0\n",
       "3       0\n",
       "4       0\n",
       "       ..\n",
       "1165    0\n",
       "1166    0\n",
       "1167    0\n",
       "1168    1\n",
       "1169    1\n",
       "Name: risk, Length: 1170, dtype: int32"
      ]
     },
     "execution_count": 42,
     "metadata": {},
     "output_type": "execute_result"
    }
   ],
   "source": [
    "total.risk"
   ]
  },
  {
   "cell_type": "code",
   "execution_count": 43,
   "id": "e081daf8",
   "metadata": {},
   "outputs": [
    {
     "data": {
      "text/plain": [
       "<bound method DecisionTreeClassifier.fit of DecisionTreeClassifier(random_state=42)>"
      ]
     },
     "execution_count": 43,
     "metadata": {},
     "output_type": "execute_result"
    }
   ],
   "source": [
    "model = DecisionTreeClassifier(random_state=42)\n",
    "model.fit"
   ]
  },
  {
   "cell_type": "code",
   "execution_count": 44,
   "id": "31ffac95",
   "metadata": {},
   "outputs": [
    {
     "data": {
      "image/png": "[encoded data removed]",
      "text/plain": [
       "<Figure size 1440x720 with 1 Axes>"
      ]
     },
     "metadata": {
      "needs_background": "light"
     },
     "output_type": "display_data"
    }
   ],
   "source": [
    "\n",
    "plt.figure(figsize=(20,10))\n",
    "plot_tree(DT, feature_names=p.columns, max_depth=2, filled=True);"
   ]
  },
  {
   "cell_type": "code",
   "execution_count": 45,
   "id": "3ceb1cac",
   "metadata": {},
   "outputs": [
    {
     "name": "stdout",
     "output_type": "stream",
     "text": [
      "|--- Selfemployed <= 0.94\n",
      "|   |--- Refugees <= -0.16\n",
      "|   |   |--- employeecompensation <= 0.46\n",
      "|   |   |   |--- Selfemployed <= -0.22\n",
      "|   |   |   |   |--- Lifeexpectancy <= 0.81\n",
      "|   |   |   |   |   |--- truncated branch of depth 3\n",
      "|   |   |   |   |--- Lifeexpectancy >  0.81\n",
      "|   |   |   |   |   |--- truncated branch of depth 3\n",
      "|   |   |   |--- Selfemployed >  -0.22\n",
      "|   |   |   |   |--- GDPpcapita <= 0.09\n",
      "|   |   |   |   |   |--- truncated branch of depth 3\n",
      "|   |   |   |   |--- GDPpcapita >  0.09\n",
      "|   |   |   |   |   |--- truncated branch of depth 3\n",
      "|   |   |--- employeecompensation >  0.46\n",
      "|   |   |   |--- GDPpyear <= 0.25\n",
      "|   |   |   |   |--- Unemployment <= 1.04\n",
      "|   |   |   |   |   |--- truncated branch of depth 3\n",
      "|   |   |   |   |--- Unemployment >  1.04\n",
      "|   |   |   |   |   |--- class: 0\n",
      "|   |   |   |--- GDPpyear >  0.25\n",
      "|   |   |   |   |--- employeecompensation <= 0.91\n",
      "|   |   |   |   |   |--- class: 0\n",
      "|   |   |   |   |--- employeecompensation >  0.91\n",
      "|   |   |   |   |   |--- class: 1\n",
      "|   |--- Refugees >  -0.16\n",
      "|   |   |--- Selfemployed <= 0.07\n",
      "|   |   |   |--- GDPpcapita <= 0.65\n",
      "|   |   |   |   |--- Refugees <= -0.16\n",
      "|   |   |   |   |   |--- class: 1\n",
      "|   |   |   |   |--- Refugees >  -0.16\n",
      "|   |   |   |   |   |--- class: 1\n",
      "|   |   |   |--- GDPpcapita >  0.65\n",
      "|   |   |   |   |--- class: 0\n",
      "|   |   |--- Selfemployed >  0.07\n",
      "|   |   |   |--- Unemployment <= 1.00\n",
      "|   |   |   |   |--- class: 0\n",
      "|   |   |   |--- Unemployment >  1.00\n",
      "|   |   |   |   |--- GDPpcapita <= -0.94\n",
      "|   |   |   |   |   |--- class: 0\n",
      "|   |   |   |   |--- GDPpcapita >  -0.94\n",
      "|   |   |   |   |   |--- truncated branch of depth 3\n",
      "|--- Selfemployed >  0.94\n",
      "|   |--- Refugees <= 4.55\n",
      "|   |   |--- class: 0\n",
      "|   |--- Refugees >  4.55\n",
      "|   |   |--- class: 1\n",
      "\n"
     ]
    }
   ],
   "source": [
    "tree_text = export_text(DT, max_depth=4, feature_names=list(p.columns))\n",
    "print(tree_text[:5000])"
   ]
  },
  {
   "cell_type": "code",
   "execution_count": null,
   "id": "48edd1aa",
   "metadata": {},
   "outputs": [],
   "source": [
    "p.columns"
   ]
  },
  {
   "cell_type": "code",
   "execution_count": null,
   "id": "3ba19ca2",
   "metadata": {},
   "outputs": [],
   "source": [
    "total.shape"
   ]
  },
  {
   "cell_type": "code",
   "execution_count": null,
   "id": "c3760fc6",
   "metadata": {},
   "outputs": [],
   "source": [
    "total.head()"
   ]
  },
  {
   "cell_type": "code",
   "execution_count": null,
   "id": "3d390e0e",
   "metadata": {},
   "outputs": [],
   "source": []
  }
 ],
 "metadata": {
  "kernelspec": {
   "display_name": "Python 3",
   "language": "python",
   "name": "python3"
  },
  "language_info": {
   "codemirror_mode": {
    "name": "ipython",
    "version": 3
   },
   "file_extension": ".py",
   "mimetype": "text/x-python",
   "name": "python",
   "nbconvert_exporter": "python",
   "pygments_lexer": "ipython3",
   "version": "3.8.8"
  }
 },
 "nbformat": 4,
 "nbformat_minor": 5
}
